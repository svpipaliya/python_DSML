{
 "cells": [
  {
   "cell_type": "markdown",
   "metadata": {},
   "source": [
    "### The goal here is to clean up the dataset datasets/titanic.csv <br>\n",
    "\n",
    "The **titanic.csv** file contains data for 887 of the real Titanic passengers. <br>\n",
    "Each row represents one person. The columns describe different attributes about the person including whether they survived, their age, their passenger-class, their sex and the fare they paid.\n",
    "\n",
    "**Question 1)** Construct a dataframe using the csv file titanic.csv<br><br>\n",
    "**Question 2)** In the column sex, Replace male/female with the 2 values 1/0<br><br>\n",
    "**Question 3)** How many null value are present in the column age?<br><br>\n",
    "**Question 4)** List the columns that have a null value<br><br>\n",
    "**Question 5)** ** The embarked attribute is having missing values, replace them by the most occurred value in this column.<br><br>\n",
    "**Question 6)** ** Fare is a numeric attribute and it has missing values too. <br><br>\n",
    "\tIn case of Fare, filling missing values with median will be better choice than mean or mode.<br><br>\n",
    "**Question 7)** ** Create a new column FareCategory to categorized fare into 4 categories: 0,1,2,3 (use pd.qcut())<br><br>\n",
    "**Question 8)** Print the survival rate per fare category<br><br>\n",
    "**Question 9)** ** In the Titanic dataset, many of the Age values were given as NaN. <br><br>\n",
    "   Replace the NaN value with the median age for each gender within each passenger class.<br><br>\n",
    "**Question 10)** Create a new column that records whether the Age was originally missing<br><br>\n",
    "**Question 11)** Create a new column with only the last name then drop the column 'name'<br><br>"
   ]
  },
  {
   "cell_type": "code",
   "execution_count": null,
   "metadata": {},
   "outputs": [],
   "source": []
  }
 ],
 "metadata": {
  "kernelspec": {
   "display_name": "Python 3",
   "language": "python",
   "name": "python3"
  },
  "language_info": {
   "codemirror_mode": {
    "name": "ipython",
    "version": 3
   },
   "file_extension": ".py",
   "mimetype": "text/x-python",
   "name": "python",
   "nbconvert_exporter": "python",
   "pygments_lexer": "ipython3",
   "version": "3.7.1"
  }
 },
 "nbformat": 4,
 "nbformat_minor": 2
}
