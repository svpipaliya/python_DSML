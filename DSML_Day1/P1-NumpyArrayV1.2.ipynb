{
 "cells": [
  {
   "cell_type": "markdown",
   "metadata": {},
   "source": [
    "# Numpy and Numpy Arrays\n",
    "\n",
    "## <a href=\"#0\">0 Preamble: A note about Jupyter notebooks</a>\n",
    "\n",
    "## <a href=\"#I\">I Arrays</a>\n",
    "### <a href=\"#I.1\">I.1 Creating Arrays</a>\n",
    "#### <a href=\"#I.1.1\">I.1.1 From Python sequences</a>\n",
    "#### <a href=\"#I.1.1\">I.1.2 Other ways to construct an Array</a>\n",
    "### <a href=\"#I.2\">I.2 Array's attributes</a>\n",
    "### <a href=\"#I.3\">I.3 Reshaping of Arrays</a>\n",
    "### <a href=\"#I.4\">I.4 Arrays and Axes</a>\n",
    "## <a href=\"#II\">II Indexing and slicing</a>\n",
    "### <a href=\"#II.1\">II.1 Indexing Arrays</a>\n",
    "#### <a href=\"#II.1.1\">II.1.1 Random functions and seeds</a> \n",
    "### <a href=\"#II.2\">II.2 Slicing Arrays</a>\n",
    "#### <a href=\"#II.2.1\">II.2.1 Slicing One-dimensional arrays</a>\n",
    "#### <a href=\"#II.2.2\">II.2.2 Slicing Multi-dimensional arrays</a>\n",
    "#### <a href=\"#II.2.3\">II.2.3 Accessing rows and columns of matrices</a>\n",
    "#### <a href=\"#II.2.4\">II.2.4 Slices are views</a>\n",
    "### <a href=\"#II.3\">II.3 Fancy Indexing</a>\n",
    "#### <a href=\"#II.3.1\">II.3.1 A first example</a>\n",
    "#### <a href=\"#II.3.2\">II.3.2 Indexing with a list of integers</a>\n",
    "\n",
    "## <a href=\"#III\">III Concatenation/Splitting of arrays</a>\n",
    "### <a href=\"#III.1\">III.1 Concatenation of arrays</a>\n",
    "### <a href=\"#III.2\">III.2 Splitting of arrays</a>\n",
    "\n",
    "## <a href=\"#IV\">IV Universal functions (ufuncs)</a>\n",
    "### <a href=\"#IV.1\">IV.1 Numerical operations on arrays</a>\n",
    "#### <a href=\"#IV.1.1\">IV.1.1 Arithmetic operations on arrays</a>\n",
    "#### <a href=\"#IV.1.2\">IV.1.2 Absolute value</a>\n",
    "#### <a href=\"#IV.1.3\">IV.1.3 Trigonometric functions</a>\n",
    "#### <a href=\"#IV.1.4\">IV.1.4 Exponents and logarithms</a>\n",
    "#### <a href=\"#IV.1.5\">IV.1.5 Other Ufuncs</a>\n",
    "### <a href=\"#IV.2\">IV.2 Advanced Ufunc Features</a>\n",
    "#### <a href=\"#IV.2.1\">IV.2.1 Specifying output</a>\n",
    "#### <a href=\"#IV.2.2\">IV.2.2 Aggregates</a>\n",
    "#### <a href=\"#IV.2.3\">IV.2.3 Outer products</a>\n",
    "\n",
    "## <a href=\"#V\">V Broadcasting</a>\n",
    "### <a href=\"#V.1\">V.1 First examples</a>\n",
    "### <a href=\"#V.2\">V.2 Broadcasting rules</a>\n",
    "\n",
    "## <a href=\"#VI\">VI Boolean Masking of Arrays</a>\n",
    "### <a href=\"#VI.1\">VI.1 Comparison Operators as ufuncs</a>\n",
    "### <a href=\"#VI.2\">VI.2 Working with Boolean Arrays</a>\n",
    "### <a href=\"#VI.3\">VI.3 Boolean Operators</a>\n",
    "### <a href=\"#VI.4\">VI.4 Boolean Arrays as Masks</a>\n",
    "\n",
    "## <a href=\"#VII\">VII Basic Linear Algebra Operations</a>\n",
    "### <a href=\"#VII.1\">VII.1 Dot product</a>\n",
    "### <a href=\"#VII.2\">VII.2 Transpose of a matrix</a>\n",
    "### <a href=\"#VII.3\">VII.3 Inverse of a Matrix</a>\n",
    "### <a href=\"#VII.4\">VII.4 Matrix Multiplication</a>\n",
    "### <a href=\"#VII.5\">VII.5 And also</a>\n",
    "\n",
    "## <a href=\"#VIII\">VIII NumPy Aggregate Functions</a>\n",
    "### <a href=\"#VIII.1\">VIII.1 Minimum and Maximum</a>\n",
    "### <a href=\"#VIII.2\">VIII.2 Other aggregate functions</a>\n",
    "\n",
    "## <a href=\"#IX\">IX Some other useful functions</a>\n",
    "### <a href=\"#IX.1\">IX.1 where</a>\n",
    "### <a href=\"#IX.2\">IX.2 repeat</a>\n",
    "### <a href=\"#IX.3\">IX.3 tile</a>\n",
    "### <a href=\"#IX.4\">IX.4 delete</a>\n",
    "### <a href=\"#IX.5\">IX.5 unique</a>\n",
    "### <a href=\"#IX.6\">IX.6 setdiff1d</a>"
   ]
  },
  {
   "cell_type": "markdown",
   "metadata": {},
   "source": [
    "<a id=\"0\"></a>\n",
    "## 0. Preamble: A note about Jupyter notebooks\n",
    "\n",
    "By finishing a Jupyter cell with the name of a variable or unassigned output of a statement, Jupyter will display that variable without the need for a print statement. This is especially useful when dealing with Pandas DataFrames, as the output is neatly formatted into a table.\n",
    "\n",
    "\n",
    "You can modify the __ast_note_interactivity__ kernel option to make Jupyter do this for any variable or statement on it’s own line, so you can see the value of multiple statements at once: place this code in a Jupyter cell:"
   ]
  },
  {
   "cell_type": "code",
   "execution_count": 1,
   "metadata": {},
   "outputs": [],
   "source": [
    "from IPython.core.interactiveshell import InteractiveShell\n",
    "\n",
    "InteractiveShell.ast_node_interactivity = \"all\" # default is 'last'"
   ]
  },
  {
   "cell_type": "markdown",
   "metadata": {},
   "source": [
    "If you want to set this behaviour for all instances of Jupyter, simply create a file __~/.ipython/profile_default/ipython_config.py__ with the lines below:\n"
   ]
  },
  {
   "cell_type": "markdown",
   "metadata": {},
   "source": [
    "<pre>\n",
    "c = get_config()\n",
    "\n",
    "c.InteractiveShell.ast_node_interactivity = \"all\"\n",
    "</pre>"
   ]
  },
  {
   "cell_type": "markdown",
   "metadata": {},
   "source": [
    "__Note__: with the default mode `last`, you can put a semicolon (`;`) at the end of the last command to suppress its output.\n"
   ]
  },
  {
   "cell_type": "markdown",
   "metadata": {},
   "source": [
    "<a id=\"I\"></a>\n",
    "## I. Arrays\n",
    "\n",
    "__Numpy__ is the core library for scientific computing in Python. It provides a high-performance multidimensional array object (__ndarray__) (also known as array), and tools for working with these arrays. <br>\n",
    "A numpy array is a grid of values, all of the same type, and is indexed by a tuple of non_negative integers. \n",
    "\n",
    "While Python lists and numpy arrays have similarities in that they are both collections of values that use indexing to help you store and access data, there are a few key differences between these two data structures:\n",
    "\n",
    "1. Unlike a Python list, all elements in a numpy arrays __must be the same data type__ (i.e. all integers, decimals, text strings, etc).<br>\n",
    "\n",
    "2. Because of this requirement, numpy arrays support arithmetic and other mathematical operations that run on each element of the array (e.g. element-by-element multiplication). <br>\n",
    "\n",
    "3. Numpy arrays can store data along multiple dimensions (e.g. rows, columns) that are relative to each other. This makes numpy arrays a very efficient data structure for large datasets.<br>\n",
    "\n",
    "4. Numpy arrays take up less space than lists.<br>\n",
    "\n",
    "5. Numpy arrays are much faster than lists.<br>\n",
    "\n",
    "<a id=\"I.1\"></a>\n",
    "### I.1 Creating Arrays\n",
    "<a id=\"I.1.1\"></a>\n",
    "#### I.1.1 From Python sequences\n",
    "\n",
    "We can use __np.array()__ (np alias is associated with numpy) to create arrays from Python sequences (list, tuple, ...).<br>\n",
    "\n",
    "Unlike Python lists, NumPy is constrained to arrays that all contain the same type. If types do not match, NumPy will upcast if possible (integers to floating point for instance ...).\n",
    "\n",
    "If we want to explicitly set the data type of the resulting array, we can use the __dtype__ keyword argument of _np.array()_."
   ]
  },
  {
   "cell_type": "code",
   "execution_count": 8,
   "metadata": {},
   "outputs": [
    {
     "data": {
      "text/plain": [
       "array([1., 2., 3., 4.], dtype=float32)"
      ]
     },
     "execution_count": 8,
     "metadata": {},
     "output_type": "execute_result"
    }
   ],
   "source": [
    "import numpy as np\n",
    "\n",
    "# integer array:\n",
    "ar1=np.array([1, 4, 2, 5, 3])\n",
    "ar1.dtype\n",
    "# float array (implicitely):\n",
    "np.array((3.14, 4, 2, 3))\n",
    "# float array:\n",
    "np.array([1, 2, 3, 4], dtype='float32') #can add a semicolon if you don't want to see the output"
   ]
  },
  {
   "cell_type": "markdown",
   "metadata": {},
   "source": [
    "Unlike Python lists, NumPy arrays can explicitly be multi-dimensional; one way of initializing a multidimensional array is to use a list of lists"
   ]
  },
  {
   "cell_type": "code",
   "execution_count": 9,
   "metadata": {
    "scrolled": true
   },
   "outputs": [
    {
     "data": {
      "text/plain": [
       "(3, 3)"
      ]
     },
     "execution_count": 9,
     "metadata": {},
     "output_type": "execute_result"
    }
   ],
   "source": [
    "# nested lists result in multi-dimensional arrays\n",
    "ar=np.array([[2, 3, 4],\n",
    "       [4, 5, 6],\n",
    "       [6, 7, 8]])\n",
    "# The inner lists are treated as rows of the resulting two-dimensional array\n",
    "ar.shape"
   ]
  },
  {
   "cell_type": "markdown",
   "metadata": {},
   "source": [
    "NumPy arrays contain values of a single type, the standard NumPy data types are listed in the following table. \n",
    "\n",
    "Note that when constructing an array, they can be specified with the keyword argument **dtype** using a string:\n",
    "**dtype='int16'** \n",
    "or the associated NumPy object:\n",
    "**dtype=np.int16**\n",
    "\n",
    "<table border=1>\n",
    "<tr><th>Data type</th>\t<th>Description</th></tr>\n",
    "<tr><td style=\"text-align:left\"><b>bool_</b></td><td style=\"text-align:left\">\tBoolean (True or False) stored as a byte</td></tr>\n",
    "<tr><td style=\"text-align:left\"><b>int_</b></td><td style=\"text-align:left\">\tDefault integer type (same as C long; normally either int64 or int32)</td></tr>\n",
    "<tr><td style=\"text-align:left\"><b>intc</b></td><td style=\"text-align:left\">\tIdentical to C int (normally int32 or int64)</td></tr>\n",
    "<tr><td style=\"text-align:left\"><b>intp</b></td><td style=\"text-align:left\">\tInteger used for indexing (same as C ssize_t; normally either int32 or int64)</td></tr>\n",
    "<tr><td style=\"text-align:left\"><b>int8</b></td><td style=\"text-align:left\">\tByte (-128 to 127)</td></tr>\n",
    "<tr><td style=\"text-align:left\"><b>int16</b></td><td style=\"text-align:left\">\tInteger (-32768 to 32767)</td></tr>\n",
    "<tr><td style=\"text-align:left\"><b>int32</b></td><td style=\"text-align:left\">\tInteger (-2147483648 to 2147483647)</td></tr>\n",
    "<tr><td style=\"text-align:left\"><b>int64</b></td><td style=\"text-align:left\">\tInteger (-9223372036854775808 to 9223372036854775807)</td></tr>\n",
    "<tr><td style=\"text-align:left\"><b>uint8</b></td><td style=\"text-align:left\">\tUnsigned integer (0 to 255)</td></tr>\n",
    "<tr><td style=\"text-align:left\"><b>uint16</b></td><td style=\"text-align:left\">\tUnsigned integer (0 to 65535)</td></tr>\n",
    "<tr><td style=\"text-align:left\"><b>uint32</b></td><td style=\"text-align:left\">\tUnsigned integer (0 to 4294967295)</td></tr>\n",
    "<tr><td style=\"text-align:left\"><b>uint64</b></td><td style=\"text-align:left\">\tUnsigned integer (0 to 18446744073709551615)</td></tr>\n",
    "<tr><td style=\"text-align:left\"><b>float_</b></td><td style=\"text-align:left\">\tShorthand for float64.</td></tr>\n",
    "<tr><td style=\"text-align:left\"><b>float16</b></td><td style=\"text-align:left\">\tHalf precision float: sign bit, 5 bits exponent, 10 bits mantissa</td></tr>\n",
    "<tr><td style=\"text-align:left\"><b>float32</b></td><td style=\"text-align:left\">\tSingle precision float: sign bit, 8 bits exponent, 23 bits mantissa</td></tr>\n",
    "<tr><td style=\"text-align:left\"><b>float64</b></td><td style=\"text-align:left\">\tDouble precision float: sign bit, 11 bits exponent, 52 bits mantissa</td></tr>\n",
    "<tr><td style=\"text-align:left\"><b>complex_</b></td><td style=\"text-align:left\">\tShorthand for complex128.</td></tr>\n",
    "<tr><td style=\"text-align:left\"><b>complex64</b></td><td style=\"text-align:left\">\tComplex number, represented by two 32-bit floats</td></tr>\n",
    "<tr><td style=\"text-align:left\"><b>complex128</b></td><td style=\"text-align:left\">\tComplex number, represented by two 64-bit floats</td></tr>\n",
    "<table>"
   ]
  },
  {
   "cell_type": "markdown",
   "metadata": {},
   "source": [
    "<a id=\"I.1.2\"></a>\n",
    "#### I.1.2 Other ways to construct an Array\n",
    "\n",
    "Most of the time, it is more efficient to create arrays from scratch using routines built into NumPy (__zeros()__, __one()__, __full()__, __arange()__, __linspace()__, __random()__, __randint()__, __normal()__, __empty()__, __eye()__, ...) than via the `array()` constructor.<br>\n",
    "\n",
    "Most of these methods take an int (the number of elements) or a tuple of ints (the shape of the array) as argument and optionnaly the _dtype_ of the array elements."
   ]
  },
  {
   "cell_type": "code",
   "execution_count": 10,
   "metadata": {},
   "outputs": [
    {
     "data": {
      "text/plain": [
       "array([3., 2., 1.])"
      ]
     },
     "execution_count": 10,
     "metadata": {},
     "output_type": "execute_result"
    }
   ],
   "source": [
    "# Create a length-10 integer array filled with zeros\n",
    "np.zeros(10, dtype=int)\n",
    "\n",
    "# Create a 3x5 floating-point array filled with ones\n",
    "np.ones((3, 5), dtype=float)\n",
    "\n",
    "# Create a 3x5 array filled with 3.14\n",
    "np.full((3, 5), 3.14)\n",
    "\n",
    "# Create an array filled with a linear sequence\n",
    "# Starting at 1.5, ending at 16.5, stepping by 0.5\n",
    "np.arange(1.5, 16.5, 0.5)\n",
    "\n",
    "# Create an array of five values evenly spaced between 0 and 1\n",
    "np.linspace(0, 1, 5)\n",
    "\n",
    "# Create a 3x3 array of uniformly distributed\n",
    "# random values between 0 and 1\n",
    "np.random.random((3, 3))\n",
    "\n",
    "# Create a 3x3 array of normally distributed random values\n",
    "# with mean 0 and standard deviation 1\n",
    "np.random.normal(0, 1, (3, 3))\n",
    "\n",
    "# Create a 3x3 array of random integers in the interval [0, 10)\n",
    "np.random.randint(0, 10, (3, 3))\n",
    "\n",
    "# Create a 3x3 identity matrix\n",
    "np.eye(3)\n",
    "\n",
    "# Create an uninitialized array of three integers\n",
    "# The values will be whatever happens to already exist at that memory location\n",
    "np.empty(3)"
   ]
  },
  {
   "cell_type": "markdown",
   "metadata": {},
   "source": [
    "<a id=\"I.2\"></a>\n",
    "### I.2 Array's attributes\n",
    "\n",
    "Each array has the following attributes:\n",
    "\n",
    "__ndim__ : (ro) the number of dimensions, \n",
    "\n",
    "__shape__ : (rw) the size of each dimension, \n",
    "\n",
    "__size__ : (ro) the total number of elements in the array, \n",
    "\n",
    "__dtype__ : (ro) the data type of the array's elements."
   ]
  },
  {
   "cell_type": "code",
   "execution_count": 11,
   "metadata": {},
   "outputs": [
    {
     "data": {
      "text/plain": [
       "array([15, 23,  8])"
      ]
     },
     "execution_count": 11,
     "metadata": {},
     "output_type": "execute_result"
    }
   ],
   "source": [
    "x2 = np.random.randint(10, size=(3, 4))  # Two-dimensional array\n",
    "x2\n",
    "x2.shape\n",
    "x2.ndim\n",
    "x2.dtype\n",
    "x2.size\n",
    "np.sum(x2)\n",
    "np.sum(x2, axis=0)\n",
    "np.sum(x2, axis=1)"
   ]
  },
  {
   "cell_type": "markdown",
   "metadata": {},
   "source": [
    "<a id=\"I.3\"></a>\n",
    "### I.3 Reshaping of Arrays\n",
    "\n",
    "The standard way of reshaping an array is to use the __reshape()__ method.\n",
    "For this to work, the size of the initial array must match the size of the reshaped array.\n",
    "For example, if you want to put the numbers 1 through 9 in a 3x3 matrix, you can do the following:"
   ]
  },
  {
   "cell_type": "code",
   "execution_count": 12,
   "metadata": {},
   "outputs": [
    {
     "data": {
      "text/plain": [
       "(3, 3)"
      ]
     },
     "execution_count": 12,
     "metadata": {},
     "output_type": "execute_result"
    }
   ],
   "source": [
    "values = np.arange(1, 10)\n",
    "values\n",
    "values.shape\n",
    "mat=values.reshape((3, 3))\n",
    "mat\n",
    "mat.shape"
   ]
  },
  {
   "cell_type": "markdown",
   "metadata": {},
   "source": [
    "Reshaping can be used to convert a one-dimensional array into a two-dimensional matrix. This can be done with the _reshape()_ method, or by making use of the __newaxis__ value within a slice:"
   ]
  },
  {
   "cell_type": "code",
   "execution_count": 13,
   "metadata": {},
   "outputs": [
    {
     "data": {
      "text/plain": [
       "(3, 1)"
      ]
     },
     "execution_count": 13,
     "metadata": {},
     "output_type": "execute_result"
    }
   ],
   "source": [
    "x = np.array([1, 2, 3])\n",
    "x\n",
    "# row vector via reshape\n",
    "mat1=x.reshape((1, 3))\n",
    "mat1\n",
    "# row vector via np.newaxis and the slice operator\n",
    "mat2=x[np.newaxis, :]\n",
    "mat2\n",
    "# column vector via reshape\n",
    "mat1=x.reshape((3, 1))\n",
    "mat1\n",
    "mat1.shape\n",
    "# row vector via np.newaxis and the slice operator\n",
    "mat2=x[:, np.newaxis]\n",
    "mat2\n",
    "mat2.shape"
   ]
  },
  {
   "cell_type": "markdown",
   "metadata": {},
   "source": [
    "<a id=\"I.4\"></a>\n",
    "### I.4 Arrays and Axes\n",
    "\n",
    "NumPy <b>axes</b> are very similar to axes in a Cartesian coordinate system.<br>\n",
    "A simple 2-dimensional Cartesian coordinate system has two axes, the x axis and the y axis.<br>\n",
    "In a 2-dimensional numpy array, axes are the directions along the rows (axis 0) and the columns (axis 1).<br>\n",
    "<b>Note</b>: numpy array axes are numbered starting with 0.\n",
    "<img src=\"nbimages/numpy-axes.png\" alt=\"Axes\" title=\"Axes\" width=300 height=200 />\n",
    "Several Numpy functions take an <b>axis</b> parameter, to understand how to use this parameter, it is important to understand what the axis parameter actually controls for each function. <br><br>\n",
    "For example, in the <b>np.sum()</b> function (see § IV.2.2), the axis parameter behaves in a way that many people think is counter intuitive.<br>\n",
    "\n",
    "<b>np.sum()</b> effectively aggregates your data: doing a summation, it collapses several values into a single value.<br>\n",
    "When you use <b>np.sum()</b> on a 2-d array it is going to collapse your 2-d array down to a 1-d array. \n",
    "It will collapse the data and reduce the number of dimensions.\n",
    "<br>\n",
    "In <b>np.sum()</b>, the <b>axis</b> parameter allows you to specify <b>the axis that gets collapsed</b>.<br>\n",
    "\n",
    "For instance, when we set <b>axis = 0</b>, we are aggregating the data such that we collapse the rows: we collapse axis 0. We are not summing across the rows!<br>\n",
    "\n",
    "Functions like <b>mean()</b>, <b>min()</b>, <b>median()</b>, and other statistical functions aggregate your data in the same way as <b>sum()</b> using the axis parameter.<br>\n",
    "\n",
    "Another example of the use of axis parameter is the NumPy <b>concatenate()</b> function.<br>\n",
    "\n",
    "With the <b>np.concatenate()</b> function (see § III.1), the <b>axis</b> parameter defines the axis along which we stack the arrays. \n",
    "\n",
    "So when we set axis = 0, we’re telling the <b>concatenate</b> function to stack the two arrays along the rows: we stack them vertically.<br>\n",
    "\n",
    "When we use Numpy <b>concatenate()</b> with axis = 1, we are telling the <b>concatenate()</b> function to combine these arrays together horizontally, since axis 1 is the axis that runs horizontally across the columns.<br>"
   ]
  },
  {
   "cell_type": "markdown",
   "metadata": {},
   "source": [
    "<a id=\"II\"></a>\n",
    "## II Indexing and slicing\n",
    "\n",
    "<a id=\"II.1\"></a>\n",
    "### II.1 Indexing \n",
    "The items of an array can be accessed and assigned to the same way as other sequences (indices begin at 0):"
   ]
  },
  {
   "cell_type": "code",
   "execution_count": 14,
   "metadata": {},
   "outputs": [
    {
     "data": {
      "text/plain": [
       "array([ 10,   3, 888,   0,  19,  10,  11,   9,  10,   6])"
      ]
     },
     "execution_count": 14,
     "metadata": {},
     "output_type": "execute_result"
    }
   ],
   "source": [
    "np.random.seed(3) # to generate each time the same random numbers\n",
    "a = np.random.randint(0, 21, 10)\n",
    "a\n",
    "a[0]\n",
    "a[-1]\n",
    "a[2]=888\n",
    "a"
   ]
  },
  {
   "cell_type": "markdown",
   "metadata": {},
   "source": [
    "For multidimensional arrays, indexes are provided as tuples of integers:"
   ]
  },
  {
   "cell_type": "code",
   "execution_count": 21,
   "metadata": {},
   "outputs": [
    {
     "data": {
      "text/plain": [
       "array([5, 0, 0])"
      ]
     },
     "execution_count": 21,
     "metadata": {},
     "output_type": "execute_result"
    }
   ],
   "source": [
    "a = np.diag([5,10,15])\n",
    "a\n",
    "a[1, 1]\n",
    "a[2, 1] = 10 # third row, second column\n",
    "a\n",
    "a[0]"
   ]
  },
  {
   "cell_type": "markdown",
   "metadata": {},
   "source": [
    "When using multidimensional array, omitting the index in a dimension is interpreted by taking all elements in the unspecified dimensions."
   ]
  },
  {
   "cell_type": "code",
   "execution_count": 27,
   "metadata": {},
   "outputs": [
    {
     "data": {
      "text/plain": [
       "array([[ 5,  0,  0],\n",
       "       [ 0, 10,  0],\n",
       "       [ 0, 10, 15]])"
      ]
     },
     "execution_count": 27,
     "metadata": {},
     "output_type": "execute_result"
    },
    {
     "data": {
      "text/plain": [
       "array([ 0, 10,  0])"
      ]
     },
     "execution_count": 27,
     "metadata": {},
     "output_type": "execute_result"
    },
    {
     "data": {
      "text/plain": [
       "array([[[ 1,  2,  3],\n",
       "        [ 4,  5,  6],\n",
       "        [ 7,  8,  9]],\n",
       "\n",
       "       [[10, 11, 12],\n",
       "        [13, 14, 15],\n",
       "        [16, 17, 18]],\n",
       "\n",
       "       [[19, 20, 21],\n",
       "        [22, 23, 24],\n",
       "        [25, 26, 27]]])"
      ]
     },
     "execution_count": 27,
     "metadata": {},
     "output_type": "execute_result"
    },
    {
     "data": {
      "text/plain": [
       "array([[1, 2, 3],\n",
       "       [4, 5, 6],\n",
       "       [7, 8, 9]])"
      ]
     },
     "execution_count": 27,
     "metadata": {},
     "output_type": "execute_result"
    },
    {
     "data": {
      "text/plain": [
       "array([4, 5, 6])"
      ]
     },
     "execution_count": 27,
     "metadata": {},
     "output_type": "execute_result"
    }
   ],
   "source": [
    "a\n",
    "a[1] # second row \n",
    "\n",
    "b=np.arange(1,28).reshape((3,3,3))\n",
    "b\n",
    "b[0]\n",
    "b[0,1]"
   ]
  },
  {
   "cell_type": "markdown",
   "metadata": {},
   "source": [
    "<a id=\"II.1.1\"></a>\n",
    "#### II.1.1 Random functions and seeds \n",
    "\n",
    "The __np.random.seed()__ method is used to initialize the default pseudorandom number generator in Python.<br>\n",
    "\n",
    "The random module uses the seed value as a base to generate a random number. If a seed value is not provided it takes system current time. <br>\n",
    "If you provide the same seed value before generating random data it will produce the same data (this could be useful while testing your code to regenerate the same sequence of pseudo-random numbers each time). \n",
    "\n",
    "If you want to set the seed that calls to __np.random...__ will use, you should use the __np.random.seed()__ function.\n",
    "\n",
    "Another way to generate, each time, the same serie of pseudo-random numbers is to create a __np.random.RandomState()__ object (it's a random number generator). <br>\n",
    "This object does not have any effect on the freestanding functions in __np.random__, but must be used explicitly.\n"
   ]
  },
  {
   "cell_type": "code",
   "execution_count": 28,
   "metadata": {},
   "outputs": [
    {
     "data": {
      "text/plain": [
       "array([1.9151945 , 6.22108771, 4.37727739, 7.85358584, 7.79975808])"
      ]
     },
     "execution_count": 28,
     "metadata": {},
     "output_type": "execute_result"
    },
    {
     "data": {
      "text/plain": [
       "array([1.9151945 , 6.22108771, 4.37727739, 7.85358584, 7.79975808])"
      ]
     },
     "execution_count": 28,
     "metadata": {},
     "output_type": "execute_result"
    }
   ],
   "source": [
    "rdst=np.random.RandomState(1234)\n",
    "rdst.uniform(0, 10, 5)\n",
    "np.random.seed(1234)\n",
    "np.random.uniform(0, 10, 5)"
   ]
  },
  {
   "cell_type": "markdown",
   "metadata": {},
   "source": [
    "<a id=\"II.2\"></a>\n",
    "### II.2 Slicing Arrays\n",
    "\n",
    "Like other Python sequences, arrays can be sliced.<br>\n",
    "\n",
    "<a id=\"II.2.1\"></a>\n",
    "#### II.2.1 Slicing One-dimensional arrays"
   ]
  },
  {
   "cell_type": "code",
   "execution_count": 14,
   "metadata": {},
   "outputs": [
    {
     "data": {
      "text/plain": [
       "array([0, 1, 2, 3, 4, 5, 6, 7, 8, 9])"
      ]
     },
     "execution_count": 14,
     "metadata": {},
     "output_type": "execute_result"
    },
    {
     "data": {
      "text/plain": [
       "array([0, 1, 2, 3, 4])"
      ]
     },
     "execution_count": 14,
     "metadata": {},
     "output_type": "execute_result"
    },
    {
     "data": {
      "text/plain": [
       "array([5, 6, 7])"
      ]
     },
     "execution_count": 14,
     "metadata": {},
     "output_type": "execute_result"
    }
   ],
   "source": [
    "x = np.arange(10)\n",
    "x\n",
    "x[:5]  # first five elements\n",
    "x[5:8] # elements at position 5, 6 and 7 (but not 8)\n"
   ]
  },
  {
   "cell_type": "markdown",
   "metadata": {},
   "source": [
    "<a id=\"II.2.2\"></a>\n",
    "#### II.2.2 Slicing Multi-dimensional arrays\n",
    "\n",
    "Slicing Multi-dimensional arrays work in the same way as slicing one dimensional arrays: you provide multiple slices separated by commas:"
   ]
  },
  {
   "cell_type": "code",
   "execution_count": 15,
   "metadata": {},
   "outputs": [
    {
     "data": {
      "text/plain": [
       "array([[5, 0, 3, 3],\n",
       "       [7, 9, 3, 5],\n",
       "       [2, 4, 7, 6]])"
      ]
     },
     "execution_count": 15,
     "metadata": {},
     "output_type": "execute_result"
    },
    {
     "data": {
      "text/plain": [
       "array([[5, 0, 3],\n",
       "       [7, 9, 3]])"
      ]
     },
     "execution_count": 15,
     "metadata": {},
     "output_type": "execute_result"
    },
    {
     "data": {
      "text/plain": [
       "array([[5, 3],\n",
       "       [7, 3],\n",
       "       [2, 7]])"
      ]
     },
     "execution_count": 15,
     "metadata": {},
     "output_type": "execute_result"
    }
   ],
   "source": [
    "np.random.seed(0)  # seed for reproducibility\n",
    "y = np.random.randint(10, size=(3, 4))  # Two-dimensional array\n",
    "y\n",
    "y[:2, :3]  # two first rows, three first columns\n",
    "y[:, ::2]  # all rows, every odd columns"
   ]
  },
  {
   "cell_type": "markdown",
   "metadata": {},
   "source": [
    "<a id=\"II.2.3\"></a>\n",
    "#### II.2.3 Accessing rows and columns of matrices\n",
    "\n",
    "Accessing a single row or column of a n-dimensional array can be done by combining indexing and slicing, using an empty slice marked by a single colon (:):"
   ]
  },
  {
   "cell_type": "code",
   "execution_count": 15,
   "metadata": {},
   "outputs": [
    {
     "data": {
      "text/plain": [
       "array([[0, 4, 7, 8],\n",
       "       [1, 6, 2, 2],\n",
       "       [1, 3, 5, 8]])"
      ]
     },
     "execution_count": 15,
     "metadata": {},
     "output_type": "execute_result"
    },
    {
     "data": {
      "text/plain": [
       "array([0, 1, 1])"
      ]
     },
     "execution_count": 15,
     "metadata": {},
     "output_type": "execute_result"
    },
    {
     "data": {
      "text/plain": [
       "array([0, 4, 7, 8])"
      ]
     },
     "execution_count": 15,
     "metadata": {},
     "output_type": "execute_result"
    },
    {
     "data": {
      "text/plain": [
       "array([0, 4, 7, 8])"
      ]
     },
     "execution_count": 15,
     "metadata": {},
     "output_type": "execute_result"
    }
   ],
   "source": [
    "y = np.random.randint(10, size=(3, 4))  # Two-dimensional array\n",
    "y\n",
    "y[:, 0]  # first column of y\n",
    "y[0, :]  # first row of x2\n",
    "y[0]"
   ]
  },
  {
   "cell_type": "markdown",
   "metadata": {},
   "source": [
    "In the case of row access, the empty slice can be omitted:"
   ]
  },
  {
   "cell_type": "code",
   "execution_count": 32,
   "metadata": {},
   "outputs": [
    {
     "data": {
      "text/plain": [
       "array([8, 8, 1, 6])"
      ]
     },
     "execution_count": 32,
     "metadata": {},
     "output_type": "execute_result"
    }
   ],
   "source": [
    "y[0] # <=> y[0, :] "
   ]
  },
  {
   "cell_type": "markdown",
   "metadata": {},
   "source": [
    "The ellipsis constant represented by **...** means in numpy arrays \"<i>at this point, insert as many full slices (:) to extend the multi-dimensional slice to all dimensions</i>\".\n",
    "\n",
    "__Note__: the method __flatten()__ returns a copy of an array collapsed into one dimension. \n",
    "\n",
    "__Note__: the method __ravel()__ returns a \"view\" of an array collapsed into one dimension. "
   ]
  },
  {
   "cell_type": "code",
   "execution_count": 33,
   "metadata": {},
   "outputs": [
    {
     "data": {
      "text/plain": [
       "array([[[[ 0,  1],\n",
       "         [ 2,  3]],\n",
       "\n",
       "        [[ 4,  5],\n",
       "         [ 6,  7]]],\n",
       "\n",
       "\n",
       "       [[[ 8,  9],\n",
       "         [10, 11]],\n",
       "\n",
       "        [[12, 13],\n",
       "         [14, 15]]]])"
      ]
     },
     "execution_count": 33,
     "metadata": {},
     "output_type": "execute_result"
    },
    {
     "data": {
      "text/plain": [
       "array([ 0,  2,  4,  6,  8, 10, 12, 14])"
      ]
     },
     "execution_count": 33,
     "metadata": {},
     "output_type": "execute_result"
    },
    {
     "data": {
      "text/plain": [
       "array([ 0,  2,  4,  6,  8, 10, 12, 14])"
      ]
     },
     "execution_count": 33,
     "metadata": {},
     "output_type": "execute_result"
    }
   ],
   "source": [
    "a = np.arange(16).reshape(2,2,2,2)\n",
    "a\n",
    "a[...,0].flatten()\n",
    "# <=>\n",
    "a[:,:,:,0].flatten()"
   ]
  },
  {
   "cell_type": "markdown",
   "metadata": {},
   "source": [
    "<a id=\"II.2.4\"></a>\n",
    "#### II.2.4 Slices are views\n",
    "\n",
    "One important – and extremely useful – thing to know about array slices is that they return __views__ rather than copies of the array data (this differs from Python list slicing: in lists, slices will be copies). <br>\n",
    "Thus, when using slicing, the original array is not copied in memory, it also means that when modifying the view, the original array is modified as well.<br>\n",
    "If you want to explicitly copy the data within an array or a subarray you can use the __copy()__ method.\n"
   ]
  },
  {
   "cell_type": "code",
   "execution_count": 34,
   "metadata": {},
   "outputs": [
    {
     "data": {
      "text/plain": [
       "array([[4, 3, 0, 3],\n",
       "       [5, 0, 2, 3],\n",
       "       [8, 1, 3, 3]])"
      ]
     },
     "execution_count": 34,
     "metadata": {},
     "output_type": "execute_result"
    },
    {
     "data": {
      "text/plain": [
       "array([0, 2])"
      ]
     },
     "execution_count": 34,
     "metadata": {},
     "output_type": "execute_result"
    },
    {
     "data": {
      "text/plain": [
       "array([[ 4,  3, 99,  3],\n",
       "       [ 5,  0,  2,  3],\n",
       "       [ 8,  1,  3,  3]])"
      ]
     },
     "execution_count": 34,
     "metadata": {},
     "output_type": "execute_result"
    },
    {
     "data": {
      "text/plain": [
       "array([99,  2])"
      ]
     },
     "execution_count": 34,
     "metadata": {},
     "output_type": "execute_result"
    },
    {
     "data": {
      "text/plain": [
       "array([[ 4,  3, 99,  3],\n",
       "       [ 5,  0,  2,  3],\n",
       "       [ 8,  1,  3,  3]])"
      ]
     },
     "execution_count": 34,
     "metadata": {},
     "output_type": "execute_result"
    }
   ],
   "source": [
    "y = np.random.randint(10, size=(3, 4))  # Two-dimensional array\n",
    "y\n",
    "slice1=y[0:2,2]\n",
    "slice1\n",
    "slice1[0]=99\n",
    "y\n",
    "slice2=y[0:2,2].copy()\n",
    "slice2\n",
    "slice2[0]=88\n",
    "y\n"
   ]
  },
  {
   "cell_type": "markdown",
   "metadata": {},
   "source": [
    "<a id=\"II.3\"></a>\n",
    "### II.3 Fancy indexing\n",
    "\n",
    "NumPy arrays can be indexed with slices, but also with boolean (see § VII) or integer arrays (__masks__). \n",
    "This method is called __fancy indexing__. <br>\n",
    "\n",
    "__Note__: _fancy indexing_ creates __copies not views__.\n",
    "\n",
    "<a id=\"II.3.1\"></a>\n",
    "#### II.3.1 A first example"
   ]
  },
  {
   "cell_type": "code",
   "execution_count": 17,
   "metadata": {},
   "outputs": [
    {
     "data": {
      "text/plain": [
       "array([10,  3,  8,  0, 19, 10, 11,  9, 10,  6,  0, 20, 12,  7, 14])"
      ]
     },
     "execution_count": 17,
     "metadata": {},
     "output_type": "execute_result"
    },
    {
     "data": {
      "text/plain": [
       "array([False,  True, False,  True, False, False, False,  True, False,\n",
       "        True,  True, False,  True, False, False])"
      ]
     },
     "execution_count": 17,
     "metadata": {},
     "output_type": "execute_result"
    },
    {
     "data": {
      "text/plain": [
       "array([ 3,  0,  9,  6,  0, 12])"
      ]
     },
     "execution_count": 17,
     "metadata": {},
     "output_type": "execute_result"
    }
   ],
   "source": [
    "np.random.seed(3) # to generate each time the same random numbers\n",
    "a = np.random.randint(0, 21, 15)\n",
    "a\n",
    "mask = (a % 3 == 0)\n",
    "mask\n",
    "extract_from_a = a[mask] # or,  a[a%3==0]\n",
    "extract_from_a           # extract a sub-array with the mask"
   ]
  },
  {
   "cell_type": "markdown",
   "metadata": {},
   "source": [
    "Indexing with a mask can be very useful to assign a new value to a sub-array.\n",
    "\n",
    "<b>Note</b>: in the context of lvalue indexing (i.e. the indices are placed in the left hand side value of an assignment), no view or copy of the array is created (because there is no need to). "
   ]
  },
  {
   "cell_type": "code",
   "execution_count": 18,
   "metadata": {},
   "outputs": [
    {
     "data": {
      "text/plain": [
       "array([10,  3,  8,  0, 19, 10, 11,  9, 10,  6,  0, 20, 12,  7, 14])"
      ]
     },
     "execution_count": 18,
     "metadata": {},
     "output_type": "execute_result"
    },
    {
     "data": {
      "text/plain": [
       "array([10, -1,  8, -1, 19, 10, 11, -1, 10, -1, -1, 20, -1,  7, 14])"
      ]
     },
     "execution_count": 18,
     "metadata": {},
     "output_type": "execute_result"
    },
    {
     "data": {
      "text/plain": [
       "array([10, 10, 10])"
      ]
     },
     "execution_count": 18,
     "metadata": {},
     "output_type": "execute_result"
    },
    {
     "data": {
      "text/plain": [
       "array([100,  10,  10])"
      ]
     },
     "execution_count": 18,
     "metadata": {},
     "output_type": "execute_result"
    },
    {
     "data": {
      "text/plain": [
       "array([10, -1,  8, -1, 19, 10, 11, -1, 10, -1, -1, 20, -1,  7, 14])"
      ]
     },
     "execution_count": 18,
     "metadata": {},
     "output_type": "execute_result"
    }
   ],
   "source": [
    "a\n",
    "a[a % 3 == 0] = -1\n",
    "a # here a is updated\n",
    "b=a[a == 10]\n",
    "b # b is a copy of the selected a's elements\n",
    "b[0]=100\n",
    "b\n",
    "a # here a is not updated"
   ]
  },
  {
   "cell_type": "markdown",
   "metadata": {},
   "source": [
    "<a id=\"II.3.2\"></a>\n",
    "#### II.3.2 Indexing with a list of integers\n",
    "\n",
    "Indexing can be done with an array or a <b>list of integers</b>.<br>\n",
    "\n",
    "__Note__: the same index can be repeated several time\n",
    "    "
   ]
  },
  {
   "cell_type": "code",
   "execution_count": 19,
   "metadata": {},
   "outputs": [
    {
     "data": {
      "text/plain": [
       "array([ 0, 10, 20, 30, 40, 50, 60, 70, 80, 90])"
      ]
     },
     "execution_count": 19,
     "metadata": {},
     "output_type": "execute_result"
    },
    {
     "data": {
      "text/plain": [
       "array([20, 30, 20, 40, 20])"
      ]
     },
     "execution_count": 19,
     "metadata": {},
     "output_type": "execute_result"
    }
   ],
   "source": [
    "a = np.arange(0, 100, 10)\n",
    "a\n",
    "a[[2, 3, 2, 4, 2]] "
   ]
  },
  {
   "cell_type": "code",
   "execution_count": 38,
   "metadata": {},
   "outputs": [
    {
     "data": {
      "text/plain": [
       "array([   0,   10,   20,   30,   40,   50,   60, -100,   80, -100])"
      ]
     },
     "execution_count": 38,
     "metadata": {},
     "output_type": "execute_result"
    }
   ],
   "source": [
    "a[[7, 9]] = -100\n",
    "a"
   ]
  },
  {
   "cell_type": "markdown",
   "metadata": {},
   "source": [
    "The array of integer can be multi-dimensional, in this case the new array has the same shape as the array of integers."
   ]
  },
  {
   "cell_type": "code",
   "execution_count": 39,
   "metadata": {},
   "outputs": [
    {
     "data": {
      "text/plain": [
       "array([[  10,   20],\n",
       "       [  80, -100]])"
      ]
     },
     "execution_count": 39,
     "metadata": {},
     "output_type": "execute_result"
    }
   ],
   "source": [
    "idx=np.array([[1,2],[8,9]])\n",
    "a[idx]"
   ]
  },
  {
   "cell_type": "markdown",
   "metadata": {},
   "source": [
    "<a id=\"III\"></a>\n",
    "## III Concatenation/Splitting of arrays\n",
    "\n",
    "<a id=\"III.1\"></a>\n",
    "### III.1 Concatenation of arrays\n",
    "\n",
    "Concatenation of two or more arrays can be accomplished using the functions __concatenate()__, __vstack()__, __hstack()__ and __stack()__. <br><br>\n",
    "__concatenate(seq [, axis=0])__ takes a tuple or list of arrays as its first argument, and concatenate them vertically (axis=0, the default) or horizontally (axis=1).<br>\n",
    "__vstack(seq)__: stack its arrays arguments in sequence vertically (row wise) (<=> to np.concatenate(seq, axis=0))<br>\n",
    "__hstack(seq)__: stack its arrays arguments in sequence horizontally (column wise) (<=> to np.concatenate(seq, axis=1))<br>\n",
    "__stack(seq [, axis=0])__: stack its arrays arguments in sequence ***along a new axis*** (row wise by default)<br>"
   ]
  },
  {
   "cell_type": "code",
   "execution_count": 20,
   "metadata": {},
   "outputs": [
    {
     "data": {
      "text/plain": [
       "array([1, 2, 3])"
      ]
     },
     "execution_count": 20,
     "metadata": {},
     "output_type": "execute_result"
    },
    {
     "data": {
      "text/plain": [
       "array([4, 6, 8])"
      ]
     },
     "execution_count": 20,
     "metadata": {},
     "output_type": "execute_result"
    },
    {
     "data": {
      "text/plain": [
       "array([1, 2, 3, 4, 6, 8])"
      ]
     },
     "execution_count": 20,
     "metadata": {},
     "output_type": "execute_result"
    },
    {
     "data": {
      "text/plain": [
       "array([[1, 2, 3],\n",
       "       [4, 5, 6],\n",
       "       [7, 8, 9]])"
      ]
     },
     "execution_count": 20,
     "metadata": {},
     "output_type": "execute_result"
    },
    {
     "data": {
      "text/plain": [
       "array([[20, 21, 22],\n",
       "       [23, 24, 25]])"
      ]
     },
     "execution_count": 20,
     "metadata": {},
     "output_type": "execute_result"
    },
    {
     "data": {
      "text/plain": [
       "array([[ 1,  2,  3],\n",
       "       [ 4,  5,  6],\n",
       "       [ 7,  8,  9],\n",
       "       [20, 21, 22],\n",
       "       [23, 24, 25]])"
      ]
     },
     "execution_count": 20,
     "metadata": {},
     "output_type": "execute_result"
    },
    {
     "data": {
      "text/plain": [
       "array([[ 1,  2,  3],\n",
       "       [ 4,  5,  6],\n",
       "       [ 7,  8,  9],\n",
       "       [20, 21, 22],\n",
       "       [23, 24, 25]])"
      ]
     },
     "execution_count": 20,
     "metadata": {},
     "output_type": "execute_result"
    },
    {
     "data": {
      "text/plain": [
       "array([[31, 32, 33],\n",
       "       [34, 35, 36],\n",
       "       [37, 38, 39]])"
      ]
     },
     "execution_count": 20,
     "metadata": {},
     "output_type": "execute_result"
    },
    {
     "data": {
      "text/plain": [
       "array([[ 1,  2,  3, 31, 32, 33],\n",
       "       [ 4,  5,  6, 34, 35, 36],\n",
       "       [ 7,  8,  9, 37, 38, 39]])"
      ]
     },
     "execution_count": 20,
     "metadata": {},
     "output_type": "execute_result"
    },
    {
     "data": {
      "text/plain": [
       "array([[ 1,  2,  3, 31, 32, 33],\n",
       "       [ 4,  5,  6, 34, 35, 36],\n",
       "       [ 7,  8,  9, 37, 38, 39]])"
      ]
     },
     "execution_count": 20,
     "metadata": {},
     "output_type": "execute_result"
    }
   ],
   "source": [
    "x = np.array([1, 2, 3])\n",
    "x\n",
    "y = np.array([4, 6, 8])\n",
    "y\n",
    "np.concatenate((x, y))\n",
    "mat1= np.arange(1, 10).reshape((3, 3))\n",
    "mat1\n",
    "mat2= np.arange(20, 26).reshape((2, 3))\n",
    "mat2\n",
    "np.concatenate((mat1, mat2))\n",
    "# <=>\n",
    "np.vstack((mat1, mat2))\n",
    "\n",
    "mat3= np.arange(31, 40).reshape((3, 3))\n",
    "mat3\n",
    "np.concatenate((mat1, mat3), axis=1)\n",
    "# <=>\n",
    "np.hstack((mat1, mat3))"
   ]
  },
  {
   "cell_type": "code",
   "execution_count": 32,
   "metadata": {},
   "outputs": [
    {
     "data": {
      "text/plain": [
       "array([[1, 2, 3],\n",
       "       [4, 5, 6]])"
      ]
     },
     "execution_count": 32,
     "metadata": {},
     "output_type": "execute_result"
    },
    {
     "data": {
      "text/plain": [
       "(2, 3)"
      ]
     },
     "execution_count": 32,
     "metadata": {},
     "output_type": "execute_result"
    },
    {
     "data": {
      "text/plain": [
       "array([[ 4,  6,  8],\n",
       "       [10, 20, 30]])"
      ]
     },
     "execution_count": 32,
     "metadata": {},
     "output_type": "execute_result"
    },
    {
     "data": {
      "text/plain": [
       "(2, 3)"
      ]
     },
     "execution_count": 32,
     "metadata": {},
     "output_type": "execute_result"
    },
    {
     "data": {
      "text/plain": [
       "array([[[ 1,  2,  3],\n",
       "        [ 4,  5,  6]],\n",
       "\n",
       "       [[ 4,  6,  8],\n",
       "        [10, 20, 30]]])"
      ]
     },
     "execution_count": 32,
     "metadata": {},
     "output_type": "execute_result"
    },
    {
     "data": {
      "text/plain": [
       "(2, 2, 3)"
      ]
     },
     "execution_count": 32,
     "metadata": {},
     "output_type": "execute_result"
    },
    {
     "data": {
      "text/plain": [
       "array([[[ 1,  4],\n",
       "        [ 2,  6],\n",
       "        [ 3,  8]],\n",
       "\n",
       "       [[ 4, 10],\n",
       "        [ 5, 20],\n",
       "        [ 6, 30]]])"
      ]
     },
     "execution_count": 32,
     "metadata": {},
     "output_type": "execute_result"
    },
    {
     "data": {
      "text/plain": [
       "(2, 3, 2)"
      ]
     },
     "execution_count": 32,
     "metadata": {},
     "output_type": "execute_result"
    }
   ],
   "source": [
    "x = np.array([[1, 2, 3],[4,5,6]])\n",
    "x\n",
    "x.shape\n",
    "y = np.array([[4, 6, 8],[10,20,30]])\n",
    "y\n",
    "y.shape\n",
    "res1=np.stack((x, y), axis=0)\n",
    "res1\n",
    "res1.shape\n",
    "res2=np.stack((x, y), axis=-1)\n",
    "res2\n",
    "res2.shape\n"
   ]
  },
  {
   "cell_type": "markdown",
   "metadata": {},
   "source": [
    "<a id=\"III.2\"></a>\n",
    "### III.2 Splitting of arrays\n",
    "The opposite of concatenation is splitting, which is implemented by the functions __split()__, __hsplit()__, and __vsplit()__. For each of these, we can pass a list of indices giving the split points (N split-points, leads to N + 1 subarrays)."
   ]
  },
  {
   "cell_type": "code",
   "execution_count": 20,
   "metadata": {},
   "outputs": [
    {
     "data": {
      "text/plain": [
       "(array([1, 2, 3]), array([44, 55]), array([3, 2, 1]))"
      ]
     },
     "execution_count": 20,
     "metadata": {},
     "output_type": "execute_result"
    },
    {
     "data": {
      "text/plain": [
       "array([[1, 2, 3],\n",
       "       [4, 5, 6],\n",
       "       [7, 8, 9]])"
      ]
     },
     "execution_count": 20,
     "metadata": {},
     "output_type": "execute_result"
    },
    {
     "data": {
      "text/plain": [
       "(array([[1, 2, 3]]), array([[4, 5, 6]]), array([[7, 8, 9]]))"
      ]
     },
     "execution_count": 20,
     "metadata": {},
     "output_type": "execute_result"
    },
    {
     "data": {
      "text/plain": [
       "(array([[1, 2, 3]]), array([[4, 5, 6]]), array([[7, 8, 9]]))"
      ]
     },
     "execution_count": 20,
     "metadata": {},
     "output_type": "execute_result"
    },
    {
     "data": {
      "text/plain": [
       "(array([[1],\n",
       "        [4],\n",
       "        [7]]),\n",
       " array([[2],\n",
       "        [5],\n",
       "        [8]]),\n",
       " array([[3],\n",
       "        [6],\n",
       "        [9]]))"
      ]
     },
     "execution_count": 20,
     "metadata": {},
     "output_type": "execute_result"
    },
    {
     "data": {
      "text/plain": [
       "(array([[1],\n",
       "        [4],\n",
       "        [7]]),\n",
       " array([[2],\n",
       "        [5],\n",
       "        [8]]),\n",
       " array([[3],\n",
       "        [6],\n",
       "        [9]]))"
      ]
     },
     "execution_count": 20,
     "metadata": {},
     "output_type": "execute_result"
    }
   ],
   "source": [
    "x = [1, 2, 3, 44, 55, 3, 2, 1]\n",
    "x1, x2, x3 = np.split(x, [3, 5])\n",
    "x1, x2, x3\n",
    "mat1= np.arange(1, 10).reshape((3, 3))\n",
    "mat1\n",
    "x1, x2, x3 = np.split(mat1, [1,2])\n",
    "x1, x2, x3\n",
    "x1, x2, x3 = np.vsplit(mat1, [1,2])\n",
    "x1, x2, x3\n",
    "x1, x2, x3 = np.split(mat1, [1,2], axis=1)\n",
    "x1, x2, x3\n",
    "x1, x2, x3 = np.hsplit(mat1, [1,2])\n",
    "x1, x2, x3"
   ]
  },
  {
   "cell_type": "markdown",
   "metadata": {},
   "source": [
    "<a id=\"IV\"></a>\n",
    "## IV Universal functions (ufuncs)\n",
    "\n",
    "Computation on NumPy arrays can be very fast if we use __vectorized operations__, generally implemented through NumPy's __universal functions__ (__ufuncs__).\n",
    "Ufuncs can be used to make repeated calculations on array elements much more efficiently than via a traditional loop. Ufuncs are designed to push the loop into the compiled layer that underlies NumPy, leading to much faster execution.<br>\n",
    "Ufuncs exist in two flavors: unary ufuncs, which operate on a single input, and binary ufuncs, which operate on two arguments.\n",
    "\n",
    "<a id=\"IV.1\"></a>\n",
    "### IV.1 Numerical operations on arrays\n",
    "\n",
    "<a id=\"IV.1.1\"></a>\n",
    "#### IV.1.1 Arithmetic operations on arrays\n",
    "\n",
    "NumPy's ufuncs feel very natural to use because they make use of Python's native arithmetic operators. The standard arithmetic operators (+, -, \\*, /, //, %, **) can all be used:\n"
   ]
  },
  {
   "cell_type": "code",
   "execution_count": 21,
   "metadata": {},
   "outputs": [
    {
     "name": "stdout",
     "output_type": "stream",
     "text": [
      "x     = [0 1 2 3]\n",
      "x + 5 = [5 6 7 8]\n",
      "x - 5 = [-5 -4 -3 -2]\n",
      "x * 2 = [0 2 4 6]\n",
      "x / 2 = [0.  0.5 1.  1.5]\n",
      "x // 2 = [0 0 1 1]\n",
      "-x     =  [ 0 -1 -2 -3]\n",
      "x ** 2 =  [0 1 4 9]\n",
      "x % 2  =  [0 1 0 1]\n",
      "x**2 + x**3  =  [ 0  2 12 36]\n"
     ]
    }
   ],
   "source": [
    "x = np.arange(4)\n",
    "print(\"x     =\", x)\n",
    "print(\"x + 5 =\", x + 5)\n",
    "print(\"x - 5 =\", x - 5)\n",
    "print(\"x * 2 =\", x * 2)\n",
    "print(\"x / 2 =\", x / 2)\n",
    "print(\"x // 2 =\", x // 2)\n",
    "print(\"-x     = \", -x)\n",
    "print(\"x ** 2 = \", x ** 2)\n",
    "print(\"x % 2  = \", x % 2)\n",
    "print(\"x**2 + x**3  = \", x**2 + x**3) # Operators can be combined"
   ]
  },
  {
   "cell_type": "markdown",
   "metadata": {},
   "source": [
    "Each of these arithmetic operations are simply convenient wrappers around specific functions built into NumPy: __add()__, __subtract()__, ..."
   ]
  },
  {
   "cell_type": "code",
   "execution_count": 44,
   "metadata": {},
   "outputs": [
    {
     "name": "stdout",
     "output_type": "stream",
     "text": [
      "x + 5 = np.add(x, 5) =  [5 6 7 8]\n"
     ]
    }
   ],
   "source": [
    "print(\"x + 5 = np.add(x, 5) = \", np.add(x,5))"
   ]
  },
  {
   "cell_type": "markdown",
   "metadata": {},
   "source": [
    "<a id=\"IV.1.2\"></a>\n",
    "#### IV.1.2 Absolute value\n",
    "The built-in absolute value function __abs()__ is also vectorized (it is an alias of __np.abs()__ and __np.absolute()__):"
   ]
  },
  {
   "cell_type": "code",
   "execution_count": 45,
   "metadata": {},
   "outputs": [
    {
     "data": {
      "text/plain": [
       "array([2, 1, 0, 1, 2])"
      ]
     },
     "execution_count": 45,
     "metadata": {},
     "output_type": "execute_result"
    },
    {
     "data": {
      "text/plain": [
       "array([2, 1, 0, 1, 2])"
      ]
     },
     "execution_count": 45,
     "metadata": {},
     "output_type": "execute_result"
    }
   ],
   "source": [
    "x = np.array([-2, -1, 0, 1, 2])\n",
    "abs(x)\n",
    "np.absolute(x)"
   ]
  },
  {
   "cell_type": "markdown",
   "metadata": {},
   "source": [
    "<a id=\"IV.1.3\"></a>\n",
    "#### IV.1.3 Trigonometric functions\n",
    "NumPy provides a large number of Trigonometric ufuncs (__sin()__, __cos()__, __tan()__, ...):\n"
   ]
  },
  {
   "cell_type": "code",
   "execution_count": 46,
   "metadata": {},
   "outputs": [
    {
     "data": {
      "text/plain": [
       "array([0.        , 1.57079633, 3.14159265])"
      ]
     },
     "execution_count": 46,
     "metadata": {},
     "output_type": "execute_result"
    },
    {
     "data": {
      "text/plain": [
       "array([0.0000000e+00, 1.0000000e+00, 1.2246468e-16])"
      ]
     },
     "execution_count": 46,
     "metadata": {},
     "output_type": "execute_result"
    },
    {
     "data": {
      "text/plain": [
       "array([ 1.000000e+00,  6.123234e-17, -1.000000e+00])"
      ]
     },
     "execution_count": 46,
     "metadata": {},
     "output_type": "execute_result"
    },
    {
     "data": {
      "text/plain": [
       "array([ 0.00000000e+00,  1.63312394e+16, -1.22464680e-16])"
      ]
     },
     "execution_count": 46,
     "metadata": {},
     "output_type": "execute_result"
    },
    {
     "data": {
      "text/plain": [
       "[-1, 0, 1]"
      ]
     },
     "execution_count": 46,
     "metadata": {},
     "output_type": "execute_result"
    },
    {
     "data": {
      "text/plain": [
       "array([-1.57079633,  0.        ,  1.57079633])"
      ]
     },
     "execution_count": 46,
     "metadata": {},
     "output_type": "execute_result"
    },
    {
     "data": {
      "text/plain": [
       "array([3.14159265, 1.57079633, 0.        ])"
      ]
     },
     "execution_count": 46,
     "metadata": {},
     "output_type": "execute_result"
    },
    {
     "data": {
      "text/plain": [
       "array([-0.78539816,  0.        ,  0.78539816])"
      ]
     },
     "execution_count": 46,
     "metadata": {},
     "output_type": "execute_result"
    }
   ],
   "source": [
    "theta = np.linspace(0, np.pi, 3)\n",
    "theta\n",
    "np.sin(theta)\n",
    "np.cos(theta)\n",
    "np.tan(theta)\n",
    "x = [-1, 0, 1]\n",
    "x\n",
    "np.arcsin(x)\n",
    "np.arccos(x)\n",
    "np.arctan(x)"
   ]
  },
  {
   "cell_type": "markdown",
   "metadata": {},
   "source": [
    "<a id=\"IV.1.4\"></a>\n",
    "#### IV.1.4 Exponents and logarithms\n",
    "Another common type of ufunc operations are the exponentials and their inverse the logarithms:\n"
   ]
  },
  {
   "cell_type": "code",
   "execution_count": 23,
   "metadata": {},
   "outputs": [
    {
     "name": "stdout",
     "output_type": "stream",
     "text": [
      "x     = [1, 2, 3]\n",
      "e^x   = [ 2.71828183  7.3890561  20.08553692]\n",
      "2^x   = [2. 4. 8.]\n",
      "3^x   = [ 3  9 27]\n",
      "ln(x)    = [0.         0.69314718 1.09861229]\n",
      "log2(x)  = [0.        1.        1.5849625]\n",
      "log10(x) = [0.         0.30103    0.47712125]\n"
     ]
    },
    {
     "data": {
      "text/plain": [
       "array([ 1.38177329,  0.49315059, -0.84887249])"
      ]
     },
     "execution_count": 23,
     "metadata": {},
     "output_type": "execute_result"
    }
   ],
   "source": [
    "x = [1, 2, 3]\n",
    "print(\"x     =\", x)\n",
    "print(\"e^x   =\", np.exp(x))\n",
    "print(\"2^x   =\", np.exp2(x))\n",
    "print(\"3^x   =\", np.power(3, x))\n",
    "print(\"ln(x)    =\", np.log(x))\n",
    "print(\"log2(x)  =\", np.log2(x))\n",
    "print(\"log10(x) =\", np.log10(x))\n",
    "\n",
    "def f(a):\n",
    "    return np.cos(a)+np.sin(a)\n",
    "\n",
    "f(x)"
   ]
  },
  {
   "cell_type": "markdown",
   "metadata": {},
   "source": [
    "<a id=\"IV.1.5\"></a>\n",
    "#### IV.1.5 Other Ufuncs\n",
    "\n",
    "Many other ufuncs are available in __numpy__, including hyperbolic trig functions, bitwise arithmetic, comparison operators, conversions from radians to degrees, rounding and remainders, and much more. <br>\n",
    "Another excellent source for more specialized and obscure ufuncs is the submodule __scipy.special__: gamma functions, error functions, ...\n",
    "\n",
    "<a id=\"IV.2\"></a>\n",
    "### IV.2 Advanced Ufunc Features\n",
    "\n",
    "<a id=\"IV.2.1\"></a>\n",
    "#### IV.2.1 Specifying output\n",
    "\n",
    "For large calculations, it is sometimes useful to be able to specify the array where the result of the calculation will be stored. For all ufuncs, this can be done using the __out__ argument of the function:"
   ]
  },
  {
   "cell_type": "code",
   "execution_count": 48,
   "metadata": {},
   "outputs": [
    {
     "data": {
      "text/plain": [
       "array([ 0., 10., 20., 30., 40.])"
      ]
     },
     "execution_count": 48,
     "metadata": {},
     "output_type": "execute_result"
    },
    {
     "data": {
      "text/plain": [
       "array([ 0., 10., 20., 30., 40.])"
      ]
     },
     "execution_count": 48,
     "metadata": {},
     "output_type": "execute_result"
    },
    {
     "data": {
      "text/plain": [
       "array([ 1.,  2.,  4.,  8., 16.])"
      ]
     },
     "execution_count": 48,
     "metadata": {},
     "output_type": "execute_result"
    },
    {
     "data": {
      "text/plain": [
       "array([ 1.,  0.,  2.,  0.,  4.,  0.,  8.,  0., 16.,  0.])"
      ]
     },
     "execution_count": 48,
     "metadata": {},
     "output_type": "execute_result"
    }
   ],
   "source": [
    "x = np.arange(5)\n",
    "y = np.empty(5)\n",
    "result=x*10\n",
    "np.multiply(x, 10, out=y)\n",
    "y\n",
    "z = np.zeros(10)\n",
    "np.power(2, x, out=z[::2])\n",
    "z # More efficient than y[::2] = 2 ** x"
   ]
  },
  {
   "cell_type": "markdown",
   "metadata": {},
   "source": [
    "<a id=\"IV.2.2\"></a>\n",
    "#### IV.2.2 Aggregates\n",
    "\n",
    "For binary ufuncs, if we'd like to reduce an array with a particular operation, we can use the __reduce()__ method of any ufunc. <br>\n",
    "A reduce repeatedly applies a given operation to the elements of an array until only a single result remains:<br>\n",
    "calling reduce on the _add()_ ufunc returns the sum of all elements in the array,<br>\n",
    "calling reduce on the _multiply()_ ufunc results in the product of all array elements,<br>\n",
    "...<br>"
   ]
  },
  {
   "cell_type": "code",
   "execution_count": 49,
   "metadata": {},
   "outputs": [
    {
     "data": {
      "text/plain": [
       "array([1, 2, 3, 4, 5])"
      ]
     },
     "execution_count": 49,
     "metadata": {},
     "output_type": "execute_result"
    },
    {
     "data": {
      "text/plain": [
       "15"
      ]
     },
     "execution_count": 49,
     "metadata": {},
     "output_type": "execute_result"
    },
    {
     "data": {
      "text/plain": [
       "120"
      ]
     },
     "execution_count": 49,
     "metadata": {},
     "output_type": "execute_result"
    }
   ],
   "source": [
    "x = np.arange(1, 6)\n",
    "x\n",
    "np.add.reduce(x)\n",
    "np.multiply.reduce(x)"
   ]
  },
  {
   "cell_type": "markdown",
   "metadata": {},
   "source": [
    "If we'd like to store all the intermediate results of the computation, we can instead use __accumulate()__:"
   ]
  },
  {
   "cell_type": "code",
   "execution_count": 50,
   "metadata": {},
   "outputs": [
    {
     "data": {
      "text/plain": [
       "array([ 1,  3,  6, 10, 15], dtype=int32)"
      ]
     },
     "execution_count": 50,
     "metadata": {},
     "output_type": "execute_result"
    },
    {
     "data": {
      "text/plain": [
       "array([  1,   2,   6,  24, 120], dtype=int32)"
      ]
     },
     "execution_count": 50,
     "metadata": {},
     "output_type": "execute_result"
    }
   ],
   "source": [
    "np.add.accumulate(x)\n",
    "np.multiply.accumulate(x)"
   ]
  },
  {
   "cell_type": "markdown",
   "metadata": {},
   "source": [
    "__Note__:there are dedicated NumPy functions to obtain the same results (__np.sum()__, __np.prod()__, __np.cumsum()__, __np.cumprod()__)."
   ]
  },
  {
   "cell_type": "code",
   "execution_count": 51,
   "metadata": {},
   "outputs": [
    {
     "data": {
      "text/plain": [
       "15"
      ]
     },
     "execution_count": 51,
     "metadata": {},
     "output_type": "execute_result"
    },
    {
     "data": {
      "text/plain": [
       "120"
      ]
     },
     "execution_count": 51,
     "metadata": {},
     "output_type": "execute_result"
    },
    {
     "data": {
      "text/plain": [
       "array([ 1,  3,  6, 10, 15], dtype=int32)"
      ]
     },
     "execution_count": 51,
     "metadata": {},
     "output_type": "execute_result"
    },
    {
     "data": {
      "text/plain": [
       "array([  1,   2,   6,  24, 120], dtype=int32)"
      ]
     },
     "execution_count": 51,
     "metadata": {},
     "output_type": "execute_result"
    }
   ],
   "source": [
    "np.sum(x)\n",
    "np.prod(x)\n",
    "np.cumsum(x)\n",
    "np.cumprod(x)"
   ]
  },
  {
   "cell_type": "markdown",
   "metadata": {},
   "source": [
    "<a id=\"IV.2.3\"></a>\n",
    "#### IV.2.3 Outer products\n",
    "\n",
    "Finally, any ufunc can compute the output of all pairs of two different inputs using the __outer()__ method. This allows you, in one line, to do things like create a multiplication table:\n"
   ]
  },
  {
   "cell_type": "code",
   "execution_count": 52,
   "metadata": {},
   "outputs": [
    {
     "data": {
      "text/plain": [
       "array([[ 1,  2,  3,  4,  5],\n",
       "       [ 2,  4,  6,  8, 10],\n",
       "       [ 3,  6,  9, 12, 15],\n",
       "       [ 4,  8, 12, 16, 20],\n",
       "       [ 5, 10, 15, 20, 25]])"
      ]
     },
     "execution_count": 52,
     "metadata": {},
     "output_type": "execute_result"
    }
   ],
   "source": [
    "x = np.arange(1, 6)\n",
    "np.multiply.outer(x, x)"
   ]
  },
  {
   "cell_type": "markdown",
   "metadata": {},
   "source": [
    "Another extremely useful feature of ufuncs is the ability to operate between arrays of different sizes and shapes, a set of operations known as __broadcasting__."
   ]
  },
  {
   "cell_type": "markdown",
   "metadata": {},
   "source": [
    "<a id=\"V\"></a>\n",
    "## V Broadcasting\n",
    "\n",
    "Broadcasting is simply a set of rules for applying binary ufuncs (e.g., addition, subtraction, multiplication, etc.) on arrays of different sizes.\n",
    "\n",
    "<a id=\"V.1\"></a>\n",
    "### V.1 First examples\n",
    "\n",
    "Thanks to ufuncs, for arrays of the same size, binary operations are performed on an element-by-element basis. But as easily as, for instance, we can add to one-dimensional arrays we can add a one-dimensional to a scalar:"
   ]
  },
  {
   "cell_type": "code",
   "execution_count": 33,
   "metadata": {},
   "outputs": [
    {
     "data": {
      "text/plain": [
       "array([5, 6, 7])"
      ]
     },
     "execution_count": 33,
     "metadata": {},
     "output_type": "execute_result"
    },
    {
     "data": {
      "text/plain": [
       "array([5, 6, 7])"
      ]
     },
     "execution_count": 33,
     "metadata": {},
     "output_type": "execute_result"
    }
   ],
   "source": [
    "a = np.array([0, 1, 2])\n",
    "b = np.array([5, 5, 5])\n",
    "a + b # OK: a and b have the same shape\n",
    "a + 5 # OK 5 is broadcasted this is equivalent to a + np.array([5, 5, 5]) but without \n",
    "      # duplication of 5"
   ]
  },
  {
   "cell_type": "markdown",
   "metadata": {},
   "source": [
    "In the same way we can add a one-dimensional array to a two-dimensional array:\n"
   ]
  },
  {
   "cell_type": "code",
   "execution_count": 34,
   "metadata": {},
   "outputs": [
    {
     "data": {
      "text/plain": [
       "array([[1., 1., 1.],\n",
       "       [1., 1., 1.],\n",
       "       [1., 1., 1.]])"
      ]
     },
     "execution_count": 34,
     "metadata": {},
     "output_type": "execute_result"
    },
    {
     "data": {
      "text/plain": [
       "array([0, 1, 2])"
      ]
     },
     "execution_count": 34,
     "metadata": {},
     "output_type": "execute_result"
    },
    {
     "data": {
      "text/plain": [
       "array([[1., 2., 3.],\n",
       "       [1., 2., 3.],\n",
       "       [1., 2., 3.]])"
      ]
     },
     "execution_count": 34,
     "metadata": {},
     "output_type": "execute_result"
    }
   ],
   "source": [
    "M = np.ones((3, 3))\n",
    "M\n",
    "a\n",
    "M + a # a is broadcasted across the second dimension in order to match the shape of M"
   ]
  },
  {
   "cell_type": "markdown",
   "metadata": {},
   "source": [
    "More complicated cases can involve broadcasting of both arrays to match a common shape:\n",
    "\n",
    "<img src=\"nbimages/broadcasting.png\" alt=\"Broadcasting\" title=\"Broadcasting\" width=600 height=400 />\n"
   ]
  },
  {
   "cell_type": "code",
   "execution_count": 55,
   "metadata": {},
   "outputs": [
    {
     "data": {
      "text/plain": [
       "array([[0],\n",
       "       [1],\n",
       "       [2]])"
      ]
     },
     "execution_count": 55,
     "metadata": {},
     "output_type": "execute_result"
    },
    {
     "data": {
      "text/plain": [
       "(3, 1)"
      ]
     },
     "execution_count": 55,
     "metadata": {},
     "output_type": "execute_result"
    },
    {
     "data": {
      "text/plain": [
       "array([0, 1, 2])"
      ]
     },
     "execution_count": 55,
     "metadata": {},
     "output_type": "execute_result"
    },
    {
     "data": {
      "text/plain": [
       "(3,)"
      ]
     },
     "execution_count": 55,
     "metadata": {},
     "output_type": "execute_result"
    },
    {
     "data": {
      "text/plain": [
       "array([[0, 1, 2],\n",
       "       [1, 2, 3],\n",
       "       [2, 3, 4]])"
      ]
     },
     "execution_count": 55,
     "metadata": {},
     "output_type": "execute_result"
    },
    {
     "data": {
      "text/plain": [
       "(3, 3)"
      ]
     },
     "execution_count": 55,
     "metadata": {},
     "output_type": "execute_result"
    }
   ],
   "source": [
    "a= np.arange(3).reshape(3,1)\n",
    "b= np.arange(3)\n",
    "a \n",
    "a.shape # (3,1) -> will be broadcasted to (3,3)\n",
    "b\n",
    "b.shape # (3,) -> will be broadcasted to (3,3)\n",
    "c=a+b\n",
    "c\n",
    "c.shape # (3,3)"
   ]
  },
  {
   "cell_type": "markdown",
   "metadata": {},
   "source": [
    "<a id=\"V.2\"></a>\n",
    "### V.2 Broadcasting rules\n",
    "\n",
    "When operating on two arrays, to determine if broadcasting is possible, NumPy compares their shapes element-wise to determine if their dimensions are __*compatibles*__.\n",
    "It starts with the trailing dimensions, and works its way forward.<br> \n",
    "Two dimensions are compatible when __they are equal__, or __one of them is 1__.\n",
    "\n",
    "If these conditions are not met, an exception is raised.<br>\n",
    "\n",
    "__Note__: arrays do not need to have the same number of dimensions. __If a dimension is missing it is considered as being 1__.<br>\n",
    "\n",
    "When either of the dimensions compared is 1, the other is used: __dimensions with size 1 are stretched or \"broadcasted\" to match the other__."
   ]
  },
  {
   "cell_type": "code",
   "execution_count": 35,
   "metadata": {},
   "outputs": [
    {
     "data": {
      "text/plain": [
       "array([[1., 1., 1.],\n",
       "       [1., 1., 1.]])"
      ]
     },
     "execution_count": 35,
     "metadata": {},
     "output_type": "execute_result"
    },
    {
     "data": {
      "text/plain": [
       "(2, 3)"
      ]
     },
     "execution_count": 35,
     "metadata": {},
     "output_type": "execute_result"
    },
    {
     "data": {
      "text/plain": [
       "array([0, 1, 2])"
      ]
     },
     "execution_count": 35,
     "metadata": {},
     "output_type": "execute_result"
    },
    {
     "data": {
      "text/plain": [
       "(3,)"
      ]
     },
     "execution_count": 35,
     "metadata": {},
     "output_type": "execute_result"
    },
    {
     "data": {
      "text/plain": [
       "array([[1., 2., 3.],\n",
       "       [1., 2., 3.]])"
      ]
     },
     "execution_count": 35,
     "metadata": {},
     "output_type": "execute_result"
    },
    {
     "data": {
      "text/plain": [
       "array([[11., 11., 11.],\n",
       "       [11., 11., 11.]])"
      ]
     },
     "execution_count": 35,
     "metadata": {},
     "output_type": "execute_result"
    },
    {
     "data": {
      "text/plain": [
       "array([0, 1, 2, 3])"
      ]
     },
     "execution_count": 35,
     "metadata": {},
     "output_type": "execute_result"
    },
    {
     "data": {
      "text/plain": [
       "(4,)"
      ]
     },
     "execution_count": 35,
     "metadata": {},
     "output_type": "execute_result"
    },
    {
     "ename": "ValueError",
     "evalue": "operands could not be broadcast together with shapes (2,3) (4,) ",
     "output_type": "error",
     "traceback": [
      "\u001b[1;31m---------------------------------------------------------------------------\u001b[0m",
      "\u001b[1;31mValueError\u001b[0m                                Traceback (most recent call last)",
      "\u001b[1;32m<ipython-input-35-15f9a8eecaaa>\u001b[0m in \u001b[0;36m<module>\u001b[1;34m\u001b[0m\n\u001b[0;32m     13\u001b[0m \u001b[0mc\u001b[0m\u001b[1;33m\u001b[0m\u001b[1;33m\u001b[0m\u001b[0m\n\u001b[0;32m     14\u001b[0m \u001b[0mc\u001b[0m\u001b[1;33m.\u001b[0m\u001b[0mshape\u001b[0m \u001b[1;31m# (4,) The last dimension of a is 4 it should be 3 (last dimension of M) or 1\u001b[0m\u001b[1;33m\u001b[0m\u001b[1;33m\u001b[0m\u001b[0m\n\u001b[1;32m---> 15\u001b[1;33m \u001b[0mM\u001b[0m\u001b[1;33m+\u001b[0m\u001b[0mc\u001b[0m \u001b[1;31m# Broadcast Error !\u001b[0m\u001b[1;33m\u001b[0m\u001b[1;33m\u001b[0m\u001b[0m\n\u001b[0m",
      "\u001b[1;31mValueError\u001b[0m: operands could not be broadcast together with shapes (2,3) (4,) "
     ]
    }
   ],
   "source": [
    "M = np.ones((2, 3))\n",
    "a = np.arange(3)\n",
    "M\n",
    "M.shape # (2,3)\n",
    "a\n",
    "a.shape # (3,) -> broadcasted to (1,3) then to (2,3)\n",
    "M+a # Broadcast is OK !\n",
    "\n",
    "b=10 # Here the shape is considered as being (1,) -> broadcasted to (1,1) then to (2,3)\n",
    "M+b # Broadcast is OK !\n",
    "\n",
    "c = np.arange(4)\n",
    "c\n",
    "c.shape # (4,) The last dimension of a is 4 it should be 3 (last dimension of M) or 1\n",
    "M+c # Broadcast Error !"
   ]
  },
  {
   "cell_type": "markdown",
   "metadata": {},
   "source": [
    "<a id=\"VI\"></a>\n",
    "## VI Boolean Masking of Arrays\n",
    "\n",
    "__Masking__ comes up when you want to extract, modify, count, or otherwise manipulate values in an array based on some criterion: for example, you might wish to count all values greater than a certain value, or perhaps remove all outliers that are above some threshold. <br>\n",
    "\n",
    "In NumPy, __boolean masking__ is often the most efficient way to accomplish these types of tasks: we can use different ufuncs to do element-wise comparisons over arrays, and we can then manipulate the results to answer the questions we have.\n",
    "\n",
    "<a id=\"VI.1\"></a>\n",
    "### VI.1 Comparison Operators as ufuncs\n",
    "\n",
    "NumPy implements comparison operators such as __<__, __>__, __>=__, __<=__, __==__, __!=__, as element-wise ufuncs (__np.less()__, __np.greater()__, ...).<br>\n",
    "\n",
    "These will work on arrays of any size and shape. <br>\n",
    "\n",
    "The result of these comparison operators is always an array with a Boolean data type. \n"
   ]
  },
  {
   "cell_type": "code",
   "execution_count": 36,
   "metadata": {},
   "outputs": [
    {
     "data": {
      "text/plain": [
       "array([ True,  True, False, False, False])"
      ]
     },
     "execution_count": 36,
     "metadata": {},
     "output_type": "execute_result"
    },
    {
     "data": {
      "text/plain": [
       "array([False, False, False,  True,  True])"
      ]
     },
     "execution_count": 36,
     "metadata": {},
     "output_type": "execute_result"
    },
    {
     "data": {
      "text/plain": [
       "array([False, False,  True,  True,  True])"
      ]
     },
     "execution_count": 36,
     "metadata": {},
     "output_type": "execute_result"
    }
   ],
   "source": [
    "x = np.array([1, 2, 3, 4, 5])\n",
    "x < 3  # less than\n",
    "x > 3  # greater than\n",
    "x >= 3  # greater than or equal"
   ]
  },
  {
   "cell_type": "markdown",
   "metadata": {},
   "source": [
    "It is also possible to do an element-wise comparison of two arrays, and to include compound expressions:"
   ]
  },
  {
   "cell_type": "code",
   "execution_count": 37,
   "metadata": {},
   "outputs": [
    {
     "data": {
      "text/plain": [
       "array([False,  True, False, False, False])"
      ]
     },
     "execution_count": 37,
     "metadata": {},
     "output_type": "execute_result"
    }
   ],
   "source": [
    "(2 * x) == (x ** 2)"
   ]
  },
  {
   "cell_type": "markdown",
   "metadata": {},
   "source": [
    "<a id=\"VI.2\"></a>\n",
    "### VI.2 Working with Boolean Arrays\n",
    "\n",
    "Given a Boolean array, there are several useful operations you can do. \n",
    "\n",
    "To __count the number of True entries__ in a Boolean array, __np.count_nonzero()__ is available (another way to get at this information is to use __np.sum()__).\n",
    "\n",
    "__Note__: the benefit of _np.sum()_ is that the summation can be done along rows or columns as well.\n"
   ]
  },
  {
   "cell_type": "code",
   "execution_count": 24,
   "metadata": {},
   "outputs": [
    {
     "data": {
      "text/plain": [
       "array([[5, 0, 3, 3],\n",
       "       [7, 9, 3, 5],\n",
       "       [2, 4, 7, 6]])"
      ]
     },
     "execution_count": 24,
     "metadata": {},
     "output_type": "execute_result"
    },
    {
     "data": {
      "text/plain": [
       "array([[ True,  True,  True,  True],\n",
       "       [False, False,  True,  True],\n",
       "       [ True,  True, False, False]])"
      ]
     },
     "execution_count": 24,
     "metadata": {},
     "output_type": "execute_result"
    },
    {
     "data": {
      "text/plain": [
       "8"
      ]
     },
     "execution_count": 24,
     "metadata": {},
     "output_type": "execute_result"
    },
    {
     "data": {
      "text/plain": [
       "8"
      ]
     },
     "execution_count": 24,
     "metadata": {},
     "output_type": "execute_result"
    },
    {
     "data": {
      "text/plain": [
       "array([4, 2, 2])"
      ]
     },
     "execution_count": 24,
     "metadata": {},
     "output_type": "execute_result"
    },
    {
     "data": {
      "text/plain": [
       "array([2, 2, 2, 2])"
      ]
     },
     "execution_count": 24,
     "metadata": {},
     "output_type": "execute_result"
    }
   ],
   "source": [
    "rng = np.random.RandomState(0)\n",
    "x = rng.randint(10, size=(3, 4))\n",
    "x\n",
    "x<6\n",
    "np.count_nonzero(x < 6)\n",
    "np.sum(x < 6)\n",
    "np.sum(x < 6, axis=1)\n",
    "np.sum(x < 6, axis=0)"
   ]
  },
  {
   "cell_type": "markdown",
   "metadata": {},
   "source": [
    "To check whether any or all the values are true, we can use __np.any()__ or __np.all()__.\n",
    "__np.any()__ or __np.all()__ can be used along particular axes as well:\n"
   ]
  },
  {
   "cell_type": "code",
   "execution_count": null,
   "metadata": {},
   "outputs": [],
   "source": [
    "# are there any values greater than 8?\n",
    "np.any(x > 8)\n",
    "# are all values positive or zero?\n",
    "np.all(x >= 0)\n",
    "# are all values in each row less than 8?\n",
    "np.all(x < 8, axis=1)"
   ]
  },
  {
   "cell_type": "markdown",
   "metadata": {},
   "source": [
    "<a id=\"VI.3\"></a>\n",
    "### VI.3 Boolean operators\n",
    "\n",
    "You can combine comparison operators with the help of Boolean operators.\n",
    "The Boolean operators are provided through the following Python's operators: __&__ (and), __|__ (or), __^__ (exclusive or), and __~__ (not).<br>\n",
    "\n",
    "Each of them is implemented by a specific Numpy Ufunc: __np.bitwise_and()__, __np.bitwise_or()__, ...\n",
    "<br>Combining comparison operators and Boolean operators on arrays lead to a wide range of efficient logical operations."
   ]
  },
  {
   "cell_type": "code",
   "execution_count": null,
   "metadata": {},
   "outputs": [],
   "source": [
    "x\n",
    "# how many elements in x are in the range [0, 5]\n",
    "np.sum((x>=0) & (x<=5))\n",
    "# how many elements in x are not in the range [0,5]\n",
    "np.sum(~ ((x>=0) & (x<=5)))"
   ]
  },
  {
   "cell_type": "markdown",
   "metadata": {},
   "source": [
    "<a id=\"VI.4\"></a>\n",
    "### VI.4 Boolean Arrays as Masks\n",
    "\n",
    "A Boolean arrays can be used as a __mask__, to select a particular subsets an array:<br>\n",
    "\n",
    "*array[boolean_array_mask]*<br>\n",
    "\n",
    "What is being returned is an array filled with all the values in positions at which the mask array is True."
   ]
  },
  {
   "cell_type": "code",
   "execution_count": null,
   "metadata": {},
   "outputs": [],
   "source": [
    "rng = np.random.RandomState(0)\n",
    "x = rng.randint(10, size=(3, 4))\n",
    "x[x<5] # select all values that are less than 5\n",
    "\n",
    "# construct a mask of all summer days (June 21st is the 172nd day)\n",
    "days = np.arange(365)\n",
    "summer = (days > 172) & (days < 262)\n",
    "days[summer] # summer days\n",
    "days[~summer] # not summer days\n"
   ]
  },
  {
   "cell_type": "markdown",
   "metadata": {},
   "source": [
    "<a id=\"VII\"></a>\n",
    "## VII Basic Linear Algebra Operations\n",
    "\n",
    "<a id=\"VII.1\"></a>\n",
    "### VII.1 Dot product\n",
    "\n",
    "We can compute the dot product of two NumPy arrays using the __np.dot()__ function.\n"
   ]
  },
  {
   "cell_type": "code",
   "execution_count": 25,
   "metadata": {},
   "outputs": [
    {
     "data": {
      "text/plain": [
       "array([[1, 2, 3],\n",
       "       [4, 5, 6]])"
      ]
     },
     "execution_count": 25,
     "metadata": {},
     "output_type": "execute_result"
    },
    {
     "data": {
      "text/plain": [
       "array([1, 2, 3])"
      ]
     },
     "execution_count": 25,
     "metadata": {},
     "output_type": "execute_result"
    },
    {
     "data": {
      "text/plain": [
       "array([14, 32])"
      ]
     },
     "execution_count": 25,
     "metadata": {},
     "output_type": "execute_result"
    }
   ],
   "source": [
    "a = np.array([[1,2,3], [4,5,6]])\n",
    "b = np.array([1,2,3])\n",
    "a\n",
    "b\n",
    "np.dot(a,b)"
   ]
  },
  {
   "cell_type": "markdown",
   "metadata": {},
   "source": [
    "<a id=\"VII.2\"></a>\n",
    "### VII.2 Transpose of a matrix\n",
    "\n",
    "We can transpose a matrix with the help of the __np.transpose()__ function or the __transpose()__ method.\n",
    "\n",
    "__Note__: the attribute __T__ is an alias of _transpose()_.\n"
   ]
  },
  {
   "cell_type": "code",
   "execution_count": null,
   "metadata": {},
   "outputs": [],
   "source": [
    "a = np.array([[1,2,3], [4,5,6]])\n",
    "a\n",
    "a.transpose()\n",
    "a.T\n",
    "np.transpose(a)"
   ]
  },
  {
   "cell_type": "markdown",
   "metadata": {},
   "source": [
    "<a id=\"VII.3\"></a>\n",
    "### VII.3 Inverse of a Matrix\n",
    "\n",
    "Finding an inverse of a matrix A, if it exists, is finding a matrix B such that the product of A with B is the identity matrix. <br>\n",
    "NumPy’s __linalg__ module has the function __inv()__ to find the inverse of a matrix.\n"
   ]
  },
  {
   "cell_type": "code",
   "execution_count": null,
   "metadata": {},
   "outputs": [],
   "source": [
    "b = np.array([[1.,2.,3.], [10.,5,6.],[7.,8.,9.]])\n",
    "b\n",
    "np.linalg.inv(b)"
   ]
  },
  {
   "cell_type": "markdown",
   "metadata": {},
   "source": [
    "<a id=\"VII.4\"></a>\n",
    "### VII.4 Matrix Multiplication\n",
    "\n",
    "We can use NumPy’s __np.dot()__ function to compute matrix multiplication.<br>\n",
    "    \n",
    "__Note__: __np.allclose()__ function is used to find if two arrays are element-wise equal within a tolerance (the tolerance values are positive very small numbers)\n"
   ]
  },
  {
   "cell_type": "code",
   "execution_count": null,
   "metadata": {},
   "outputs": [],
   "source": [
    "np.allclose(np.dot(b, b_inv), np.eye(3))"
   ]
  },
  {
   "cell_type": "markdown",
   "metadata": {},
   "source": [
    "<a id=\"VII.5\"></a>\n",
    "### VII.5 And also\n",
    "\n",
    "__np.trace()__: compute the trace of a matrix.<br>\n",
    "__np.linalg.det()__: compute the determinant of a matrix.<br>\n",
    "__np.linalg.eig()__: compute the Eigen Value and Eigen Vector of a matrix.<br>\n"
   ]
  },
  {
   "cell_type": "markdown",
   "metadata": {},
   "source": [
    "<a id=\"VIII\"></a>\n",
    "## VIII NumPy Aggregate Functions\n",
    "\n",
    "In Python NumPy module, we have many aggregate functions, or statistical function to work with a single dimensional or multi-dimensional arrays. \n",
    "\n",
    "<a id=\"VIII.1\"></a>\n",
    "### VIII.1  Minimum and Maximum\n",
    "\n",
    "Numpy has built-in __min()__ and __max()__ functions, to find the minimum value and maximum value of any given array (instead of the function you can use methods with the same name of the array object itself):"
   ]
  },
  {
   "cell_type": "code",
   "execution_count": null,
   "metadata": {},
   "outputs": [],
   "source": [
    "rng = np.random.RandomState(5)\n",
    "x = rng.randint(25, size=(5, 5))\n",
    "x\n",
    "np.min(x)\n",
    "x.min()"
   ]
  },
  {
   "cell_type": "markdown",
   "metadata": {},
   "source": [
    "Aggregation functions take an additional argument specifying the axis along which the aggregate is computed. For example, we can find the minimum value within each column by specifying __axis=0__:\n",
    "\n",
    "__Note__: _axis=0_ means that the first axis will be collapsed: for two-dimensional arrays, this means that values within each column will be aggregated.\n"
   ]
  },
  {
   "cell_type": "code",
   "execution_count": null,
   "metadata": {},
   "outputs": [],
   "source": [
    "M = np.random.random((3, 4))\n",
    "M\n",
    "M.min()\n",
    "M.min(axis=0)"
   ]
  },
  {
   "cell_type": "markdown",
   "metadata": {},
   "source": [
    "<a id=\"VIII.2\"></a>\n",
    "### VIII.2 Other aggregate functions\n",
    "\n",
    "<table border=1>\n",
    "<tr><th>Function Name</th><th>NaN-safe Version</th><th>Description</th></tr>\n",
    "<tr>\n",
    "<td style=\"text-align:left\"><b>np.sum</b></td>\n",
    "<td style=\"text-align:left\"><b>np.nansum</b></td>\n",
    "<td style=\"text-align:left\">Compute sum of elements</td>\n",
    "</tr>\n",
    "<tr>\n",
    "<td style=\"text-align:left\"><b>np.prod</b></td>\n",
    "<td style=\"text-align:left\"><b>np.nanprod</b></td>\n",
    "<td style=\"text-align:left\">Compute product of elements</td>\n",
    "</tr>\n",
    "<tr>\n",
    "<td style=\"text-align:left\"><b>np.mean</b></td>\n",
    "<td style=\"text-align:left\"><b>np.nanmean</b></td>\n",
    "<td style=\"text-align:left\">Compute mean of elements</td>\n",
    "</tr>\n",
    "<tr>\n",
    "<td style=\"text-align:left\"><b>np.std</b></td>\n",
    "<td style=\"text-align:left\"><b>np.nanstd</b></td>\n",
    "<td style=\"text-align:left\">Compute standard deviation</td>\n",
    "</tr>\n",
    "<tr>\n",
    "<td style=\"text-align:left\"><b>np.var</b></td>\n",
    "<td style=\"text-align:left\"><b>np.nanvar</b></td>\n",
    "<td style=\"text-align:left\">Compute variance</td>\n",
    "</tr>\n",
    "<tr>\n",
    "<td style=\"text-align:left\"><b>np.min</b></td>\n",
    "<td style=\"text-align:left\"><b>np.nanmin</b></td>\n",
    "<td style=\"text-align:left\">Find minimum value</td>\n",
    "</tr>\n",
    "<tr>\n",
    "<td style=\"text-align:left\"><b>np.max</b></td>\n",
    "<td style=\"text-align:left\"><b>np.nanmax</b></td>\n",
    "<td style=\"text-align:left\">Find maximum value</td>\n",
    "</tr>\n",
    "<tr>\n",
    "<td style=\"text-align:left\"><b>np.argmin</b></td>\n",
    "<td style=\"text-align:left\"><b>np.nanargmin</b></td>\n",
    "<td style=\"text-align:left\">Find index of minimum value</td>\n",
    "</tr>\n",
    "<tr>\n",
    "<td style=\"text-align:left\"><b>np.argmax</b></td>\n",
    "<td style=\"text-align:left\"><b>np.nanargmax</b></td>\n",
    "<td style=\"text-align:left\">Find index of maximum value</td>\n",
    "</tr>\n",
    "<tr>\n",
    "<td style=\"text-align:left\"><b>np.median</b></td>\n",
    "<td style=\"text-align:left\"><b>np.nanmedian</b></td>\n",
    "<td style=\"text-align:left\">Compute median of elements</td>\n",
    "</tr>\n",
    "<tr>\n",
    "<td style=\"text-align:left\"><b>np.percentile</b></td>\n",
    "<td style=\"text-align:left\"><b>np.nanpercentile</b></td>\n",
    "<td style=\"text-align:left\">Compute rank-based statistics of elements</td>\n",
    "</tr>\n",
    "<tr>\n",
    "<td style=\"text-align:left\"><b>np.any</b></td>\n",
    "<td style=\"text-align:left\"><b>N/A</b></td>\n",
    "<td style=\"text-align:left\">Evaluate whether any elements are true</td>\n",
    "</tr>\n",
    "<tr>\n",
    "<td style=\"text-align:left\"><b>np.all</b></td>\n",
    "<td style=\"text-align:left\"><b>N/A</b></td>\n",
    "<td style=\"text-align:left\">Evaluate whether all elements are true</td>\n",
    "</tr>\n",
    "<table>"
   ]
  },
  {
   "cell_type": "markdown",
   "metadata": {},
   "source": [
    "<a id=\"IX\"></a>\n",
    "## IX Some other useful functions\n",
    "\n",
    "To finish this overview of Python NumPy's array, let's have a look at a few remaining useful functions. \n",
    "\n",
    "<a id=\"IX.1\"></a>\n",
    "### IX.1  where\n",
    "\n",
    "The **numpy.where(condition[, x, y])** function returns the indices of elements in an input array where the given *condition* is satisfied.<br>\n",
    "\n",
    "Parameters:<br>\n",
    "**condition** : When True, yield *x*, otherwise yield *y*.<br>\n",
    "**x, y** : Values from which to choose (*x*, *y* and *condition* need to be broadcastable to some shape).<br>\n",
    "\n",
    "Returns:<br>\n",
    "*where()* returns a ndarray (or tuple of ndarrays).<br>\n",
    "If both *x* and *y* are specified, the output array contains elements of *x* where condition is True, and elements from *y* elsewhere.<br>\n",
    "If only *condition* is given, return the indices (tuple of arrays) where condition is True.<br>\n"
   ]
  },
  {
   "cell_type": "code",
   "execution_count": 26,
   "metadata": {},
   "outputs": [
    {
     "data": {
      "text/plain": [
       "(array([ 2,  3,  4,  7, 10, 11], dtype=int64),)"
      ]
     },
     "execution_count": 26,
     "metadata": {},
     "output_type": "execute_result"
    },
    {
     "data": {
      "text/plain": [
       "array([13, 14, 15, 15, 14, 15])"
      ]
     },
     "execution_count": 26,
     "metadata": {},
     "output_type": "execute_result"
    }
   ],
   "source": [
    "arr = np.array([11, 12, 13, 14, 15, 16, 17, 15, 11, 12, 14, 15, 16, 17])\n",
    "result = np.where((arr > 12) & (arr < 16))\n",
    "result\n",
    "arr[result]"
   ]
  },
  {
   "cell_type": "code",
   "execution_count": 27,
   "metadata": {},
   "outputs": [
    {
     "data": {
      "text/plain": [
       "array([[0, 1, 2],\n",
       "       [3, 4, 5],\n",
       "       [6, 7, 8]])"
      ]
     },
     "execution_count": 27,
     "metadata": {},
     "output_type": "execute_result"
    },
    {
     "data": {
      "text/plain": [
       "array([[ -1,  -1,  -1],\n",
       "       [ -1, 100, 100],\n",
       "       [100, 100, 100]])"
      ]
     },
     "execution_count": 27,
     "metadata": {},
     "output_type": "execute_result"
    }
   ],
   "source": [
    "a = np.arange(9).reshape((3, -1))\n",
    "a\n",
    "np.where(a < 4, -1, 100)"
   ]
  },
  {
   "cell_type": "code",
   "execution_count": 28,
   "metadata": {},
   "outputs": [
    {
     "data": {
      "text/plain": [
       "array([[  0,   1,   2],\n",
       "       [  3, 100, 100],\n",
       "       [100, 100, 100]])"
      ]
     },
     "execution_count": 28,
     "metadata": {},
     "output_type": "execute_result"
    }
   ],
   "source": [
    "np.where(a < 4, a, 100)"
   ]
  },
  {
   "cell_type": "code",
   "execution_count": 29,
   "metadata": {},
   "outputs": [
    {
     "data": {
      "text/plain": [
       "array([[10, 11, 12],\n",
       "       [13,  4,  5],\n",
       "       [ 6,  7,  8]])"
      ]
     },
     "execution_count": 29,
     "metadata": {},
     "output_type": "execute_result"
    }
   ],
   "source": [
    "np.where(a < 4, a + 10, a)"
   ]
  },
  {
   "cell_type": "code",
   "execution_count": 30,
   "metadata": {},
   "outputs": [
    {
     "data": {
      "text/plain": [
       "(array([0, 0, 0, 1], dtype=int64), array([0, 1, 2, 0], dtype=int64))"
      ]
     },
     "execution_count": 30,
     "metadata": {},
     "output_type": "execute_result"
    }
   ],
   "source": [
    "np.where(a < 4)"
   ]
  },
  {
   "cell_type": "code",
   "execution_count": 31,
   "metadata": {},
   "outputs": [
    {
     "data": {
      "text/plain": [
       "[(0, 0), (0, 1), (0, 2), (1, 0)]"
      ]
     },
     "execution_count": 31,
     "metadata": {},
     "output_type": "execute_result"
    }
   ],
   "source": [
    "list(zip(*np.where(a < 4)))"
   ]
  },
  {
   "cell_type": "markdown",
   "metadata": {},
   "source": [
    "<a id=\"IX.2\"></a>\n",
    "### IX.2  repeat\n",
    "\n",
    "The **numpy.repeat(arr, repetitions, axis = None)** function is used to repeat elements of an array.<br>\n",
    "\n",
    "Parameters:<br>\n",
    "**a**       : Input array. <br>\n",
    "**repeats** : No. of repetitions of each array elements along the given axis.<br>\n",
    "**axis**    : Axis along which we want to repeat values. By default, it returns a flat output array.<br>\n",
    "\n",
    "Returns:<br>\n",
    "An output array which has the same shape as a, except along the given axis.<br><br>"
   ]
  },
  {
   "cell_type": "code",
   "execution_count": 32,
   "metadata": {},
   "outputs": [
    {
     "data": {
      "text/plain": [
       "array([7, 7, 7, 7])"
      ]
     },
     "execution_count": 32,
     "metadata": {},
     "output_type": "execute_result"
    },
    {
     "data": {
      "text/plain": [
       "array([7, 7, 7, 7])"
      ]
     },
     "execution_count": 32,
     "metadata": {},
     "output_type": "execute_result"
    },
    {
     "data": {
      "text/plain": [
       "array([6, 6, 7, 7])"
      ]
     },
     "execution_count": 32,
     "metadata": {},
     "output_type": "execute_result"
    }
   ],
   "source": [
    "np.repeat(a = 7, repeats = 4)\n",
    "np.repeat(7, 4)\n",
    "np.repeat(a = [6,7], repeats = 2)"
   ]
  },
  {
   "cell_type": "code",
   "execution_count": 33,
   "metadata": {},
   "outputs": [
    {
     "data": {
      "text/plain": [
       "array([[6, 7],\n",
       "       [8, 9]])"
      ]
     },
     "execution_count": 33,
     "metadata": {},
     "output_type": "execute_result"
    },
    {
     "data": {
      "text/plain": [
       "array([6, 6, 7, 7, 8, 8, 9, 9])"
      ]
     },
     "execution_count": 33,
     "metadata": {},
     "output_type": "execute_result"
    },
    {
     "data": {
      "text/plain": [
       "array([[6, 7],\n",
       "       [6, 7],\n",
       "       [8, 9],\n",
       "       [8, 9]])"
      ]
     },
     "execution_count": 33,
     "metadata": {},
     "output_type": "execute_result"
    },
    {
     "data": {
      "text/plain": [
       "array([[6, 6, 7, 7],\n",
       "       [8, 8, 9, 9]])"
      ]
     },
     "execution_count": 33,
     "metadata": {},
     "output_type": "execute_result"
    }
   ],
   "source": [
    "mat=np.array([[6,7],[8,9]])\n",
    "mat\n",
    "np.repeat(mat, 2)\n",
    "np.repeat(mat, 2, axis=0)\n",
    "np.repeat(mat, 2, axis=1)"
   ]
  },
  {
   "cell_type": "code",
   "execution_count": 34,
   "metadata": {},
   "outputs": [
    {
     "data": {
      "text/plain": [
       "array([1, 2, 3, 4])"
      ]
     },
     "execution_count": 34,
     "metadata": {},
     "output_type": "execute_result"
    },
    {
     "data": {
      "text/plain": [
       "array([[1, 2, 3, 4]])"
      ]
     },
     "execution_count": 34,
     "metadata": {},
     "output_type": "execute_result"
    },
    {
     "data": {
      "text/plain": [
       "array([[1, 2, 3, 4],\n",
       "       [1, 2, 3, 4]])"
      ]
     },
     "execution_count": 34,
     "metadata": {},
     "output_type": "execute_result"
    }
   ],
   "source": [
    "arr=np.array([1,2,3,4])\n",
    "arr\n",
    "arr=arr[np.newaxis, :] # <=> arr=np.expand_dims(arr, axis = 0)\n",
    "arr\n",
    "np.repeat(arr, 2, axis=0)"
   ]
  },
  {
   "cell_type": "markdown",
   "metadata": {},
   "source": [
    "<a id=\"IX.3\"></a>\n",
    "### IX.3  tile\n",
    "\n",
    "The **numpy.tile(a, reps)** function is used to constructs an array by repeating the parameter *a*  (an array like object) the number of times specified by the *reps* parameter.<br>\n",
    "\n",
    "Parameters:<br>\n",
    "**a**       : Input array. <br>\n",
    "**reps**    : If you provide an integer *n* to *reps*, then it will simply copy the array n times, horizontally.<br>\n",
    "You can also pass an 'array like' object to *reps*.\n",
    "When you do so, the first number is the number of repeats downwards and the second number in the tuple is the number of repeats across.\n",
    "And if you have more than two numbers, it will actually repeat into a greater number of dimensions.<br>\n",
    "\n",
    "Returns:<br>\n",
    "A new array.<br><br>"
   ]
  },
  {
   "cell_type": "code",
   "execution_count": 35,
   "metadata": {},
   "outputs": [
    {
     "data": {
      "text/plain": [
       "array([6, 7, 8, 6, 7, 8])"
      ]
     },
     "execution_count": 35,
     "metadata": {},
     "output_type": "execute_result"
    },
    {
     "data": {
      "text/plain": [
       "array([[6, 7, 8],\n",
       "       [6, 7, 8]])"
      ]
     },
     "execution_count": 35,
     "metadata": {},
     "output_type": "execute_result"
    },
    {
     "data": {
      "text/plain": [
       "array([[6, 7, 8, 6, 7, 8],\n",
       "       [6, 7, 8, 6, 7, 8]])"
      ]
     },
     "execution_count": 35,
     "metadata": {},
     "output_type": "execute_result"
    }
   ],
   "source": [
    "np.tile(A = [6,7,8], reps = 2)\n",
    "np.tile(A = [6,7,8], reps = (2,1))\n",
    "np.tile(A = [6,7,8], reps = (2,2))"
   ]
  },
  {
   "cell_type": "markdown",
   "metadata": {},
   "source": [
    "<a id=\"IX.4\"></a>\n",
    "### IX.4  delete\n",
    "\n",
    "The **numpy.delete(arr, obj, axis=None)** function returns a new array with the specified subarray deleted from the input array.\n",
    "<br>\n",
    "\n",
    "Parameters:<br>\n",
    "**arr**       : Input array. <br>\n",
    "**obj**    : Can be a slice, an integer or array of integers, indicating the subarray to be deleted from the input array.<br>\n",
    "**axis**    : Axis to delete: if the axis parameter is not used, the input array is flattened.\n",
    "\n",
    "Returns:<br>\n",
    "A new array (a copy of *arr* with the elements specified by *obj* removed).<br><br>"
   ]
  },
  {
   "cell_type": "code",
   "execution_count": 38,
   "metadata": {},
   "outputs": [
    {
     "data": {
      "text/plain": [
       "array([[ 0,  1,  2,  3],\n",
       "       [ 4,  5,  6,  7],\n",
       "       [ 8,  9, 10, 11]])"
      ]
     },
     "execution_count": 38,
     "metadata": {},
     "output_type": "execute_result"
    },
    {
     "data": {
      "text/plain": [
       "array([[ 0,  1,  2,  3],\n",
       "       [ 8,  9, 10, 11]])"
      ]
     },
     "execution_count": 38,
     "metadata": {},
     "output_type": "execute_result"
    },
    {
     "data": {
      "text/plain": [
       "array([[ 0,  2,  3],\n",
       "       [ 4,  6,  7],\n",
       "       [ 8, 10, 11]])"
      ]
     },
     "execution_count": 38,
     "metadata": {},
     "output_type": "execute_result"
    },
    {
     "data": {
      "text/plain": [
       "array([ 0,  2,  3,  4,  5,  6,  7,  8,  9, 10, 11])"
      ]
     },
     "execution_count": 38,
     "metadata": {},
     "output_type": "execute_result"
    }
   ],
   "source": [
    "a = np.arange(12).reshape(3, 4)\n",
    "a\n",
    "r_del = np.delete(a, 1, axis=0)\n",
    "r_del\n",
    "c_del = np.delete(a, 1, axis=1)\n",
    "c_del\n",
    "o_del = np.delete(a, 1)\n",
    "o_del"
   ]
  },
  {
   "cell_type": "code",
   "execution_count": 37,
   "metadata": {},
   "outputs": [
    {
     "data": {
      "text/plain": [
       "array([[ 0,  1,  2,  3],\n",
       "       [ 4,  5,  6,  7],\n",
       "       [ 8,  9, 10, 11]])"
      ]
     },
     "execution_count": 37,
     "metadata": {},
     "output_type": "execute_result"
    },
    {
     "data": {
      "text/plain": [
       "array([[ 8,  9, 10, 11]])"
      ]
     },
     "execution_count": 37,
     "metadata": {},
     "output_type": "execute_result"
    },
    {
     "data": {
      "text/plain": [
       "array([[ 2,  3],\n",
       "       [ 6,  7],\n",
       "       [10, 11]])"
      ]
     },
     "execution_count": 37,
     "metadata": {},
     "output_type": "execute_result"
    },
    {
     "data": {
      "text/plain": [
       "array([ 2,  3,  4,  5,  6,  7,  8,  9, 10, 11])"
      ]
     },
     "execution_count": 37,
     "metadata": {},
     "output_type": "execute_result"
    }
   ],
   "source": [
    "a = np.arange(12).reshape(3, 4)\n",
    "a\n",
    "r_del = np.delete(a, [0,1], axis=0)\n",
    "r_del\n",
    "c_del = np.delete(a, [0,1], axis=1)\n",
    "c_del\n",
    "o_del = np.delete(a, [0,1])\n",
    "o_del"
   ]
  },
  {
   "cell_type": "markdown",
   "metadata": {},
   "source": [
    "<a id=\"IX.5\"></a>\n",
    "### IX.5  unique\n",
    "\n",
    "The **numpy.unique()** function is used to find (and return) the unique elements of an array.\n",
    "<br><br>\n",
    "There are three optional outputs in addition to the unique elements:<br>\n",
    "\n",
    "the indices of the input array that give the unique values (if the optional parameter <b>return_index</b> is True)\n",
    "<br>the indices of the unique array that reconstruct the input array (if the optional parameter <b>return_inverse</b> is True)\n",
    "<br>the number of times each unique value comes up in the input array if the optional parameter <b>return_count</b> is True)\n",
    "<br>\n"
   ]
  },
  {
   "cell_type": "code",
   "execution_count": 40,
   "metadata": {},
   "outputs": [
    {
     "data": {
      "text/plain": [
       "array([1, 2, 6, 4, 2, 3, 2])"
      ]
     },
     "execution_count": 40,
     "metadata": {},
     "output_type": "execute_result"
    },
    {
     "data": {
      "text/plain": [
       "array([1, 2, 3, 4, 6])"
      ]
     },
     "execution_count": 40,
     "metadata": {},
     "output_type": "execute_result"
    },
    {
     "data": {
      "text/plain": [
       "array([1, 3, 1, 1, 1], dtype=int64)"
      ]
     },
     "execution_count": 40,
     "metadata": {},
     "output_type": "execute_result"
    }
   ],
   "source": [
    "a = np.array([1, 2, 6, 4, 2, 3, 2])\n",
    "a\n",
    "values, counts = np.unique(a, return_counts=True)\n",
    "values\n",
    "counts"
   ]
  },
  {
   "cell_type": "markdown",
   "metadata": {},
   "source": [
    "<a id=\"IX.6\"></a>\n",
    "### IX.6  setdiff1d\n",
    "\n",
    "The **numpy.setdiff1d(ar1, ar2)** function is used to find the set difference of two 1 dimentional arrays: it returns, as an array, the unique values in <b>ar1</b> that are not in <b>ar2</b>."
   ]
  },
  {
   "cell_type": "code",
   "execution_count": 17,
   "metadata": {},
   "outputs": [
    {
     "name": "stdout",
     "output_type": "stream",
     "text": [
      "Unique values in [ 0 10 20 40 60 80] that are not in [10, 30, 40, 50, 70] are: [ 0 20 60 80]\n"
     ]
    }
   ],
   "source": [
    "import numpy as np\n",
    "a1 = np.array([0, 10, 20, 40, 60, 80])\n",
    "a2 = [10, 30, 40, 50, 70]\n",
    "print(f\"Unique values in {a1} that are not in {a2} are: {np.setdiff1d(a1, a2)}\")\n"
   ]
  },
  {
   "cell_type": "markdown",
   "metadata": {},
   "source": [
    "<a id=\"IX.7\"></a>\n",
    "### IX.7  append and insert\n",
    "\n",
    "A NumPy array does not have a built-in append method. Instead, to append elements to a NumPy array, use the **numpy.append(arr, values, axis=None)** function.\n",
    "\n",
    "Note that *append()* does not occur in-place: a new array is allocated and filled. If *axis* is `None`, *append()* returns a flattened array.\n",
    "\n"
   ]
  },
  {
   "cell_type": "code",
   "execution_count": 3,
   "metadata": {},
   "outputs": [
    {
     "data": {
      "text/plain": [
       "array([[0, 1, 2],\n",
       "       [3, 4, 5],\n",
       "       [6, 7, 8]])"
      ]
     },
     "execution_count": 3,
     "metadata": {},
     "output_type": "execute_result"
    },
    {
     "data": {
      "text/plain": [
       "array([0, 1, 2, 3, 4, 5, 6, 7, 8])"
      ]
     },
     "execution_count": 3,
     "metadata": {},
     "output_type": "execute_result"
    },
    {
     "data": {
      "text/plain": [
       "[[0, 1, 2], [3, 4, 5]]"
      ]
     },
     "execution_count": 3,
     "metadata": {},
     "output_type": "execute_result"
    }
   ],
   "source": [
    "mat=[[0, 1, 2], [3, 4, 5]]\n",
    "np.append(mat,[[6, 7, 8]], axis=0)\n",
    "np.append(mat,[[6, 7, 8]])\n",
    "mat"
   ]
  },
  {
   "cell_type": "markdown",
   "metadata": {},
   "source": [
    "The **numpy.insert(arr, indices, values, axis=None)** function is used to insert values along the given axis before the given indices.\n",
    "\n",
    "Note that *insert()* does not occur in-place: a new array is allocated and filled. If *axis* is `None`, *insert()* returns a flattened array."
   ]
  },
  {
   "cell_type": "code",
   "execution_count": 6,
   "metadata": {},
   "outputs": [
    {
     "data": {
      "text/plain": [
       "array([ 0,  1, 10,  2,  3,  4,  5])"
      ]
     },
     "execution_count": 6,
     "metadata": {},
     "output_type": "execute_result"
    },
    {
     "data": {
      "text/plain": [
       "array([[ 0,  1, 10,  2],\n",
       "       [ 3,  4, 10,  5]])"
      ]
     },
     "execution_count": 6,
     "metadata": {},
     "output_type": "execute_result"
    },
    {
     "data": {
      "text/plain": [
       "[[0, 1, 2], [3, 4, 5]]"
      ]
     },
     "execution_count": 6,
     "metadata": {},
     "output_type": "execute_result"
    }
   ],
   "source": [
    "mat=[[0, 1, 2], [3, 4, 5]]\n",
    "np.insert(mat, 2, 10)\n",
    "np.insert(mat, 2, 10, axis=1)\n",
    "mat\n"
   ]
  },
  {
   "cell_type": "code",
   "execution_count": null,
   "metadata": {},
   "outputs": [],
   "source": []
  }
 ],
 "metadata": {
  "kernelspec": {
   "display_name": "Python 3 (ipykernel)",
   "language": "python",
   "name": "python3"
  },
  "language_info": {
   "codemirror_mode": {
    "name": "ipython",
    "version": 3
   },
   "file_extension": ".py",
   "mimetype": "text/x-python",
   "name": "python",
   "nbconvert_exporter": "python",
   "pygments_lexer": "ipython3",
   "version": "3.9.7"
  }
 },
 "nbformat": 4,
 "nbformat_minor": 2
}
