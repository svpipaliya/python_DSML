{
 "cells": [
  {
   "cell_type": "markdown",
   "id": "taken-routine",
   "metadata": {},
   "source": [
    "## Pandas exercises\n",
    "\n",
    "### Step 1:\n",
    "    \n",
    "Use the **`babynames.csv`** file to create a DataFrame.\n",
    "\n",
    "Print some information about the DataFrame and it's first five rows."
   ]
  },
  {
   "cell_type": "code",
   "execution_count": 7,
   "id": "romance-plaza",
   "metadata": {},
   "outputs": [
    {
     "name": "stdout",
     "output_type": "stream",
     "text": [
      "<class 'pandas.core.frame.DataFrame'>\n",
      "RangeIndex: 276087 entries, 0 to 276086\n",
      "Data columns (total 7 columns):\n",
      " #   Column  Non-Null Count   Dtype  \n",
      "---  ------  --------------   -----  \n",
      " 0   Id1     276086 non-null  float64\n",
      " 1   Id2     276086 non-null  float64\n",
      " 2   Name    276085 non-null  object \n",
      " 3   Year    276085 non-null  float64\n",
      " 4   Gender  276085 non-null  object \n",
      " 5   State   276085 non-null  object \n",
      " 6   Count   276085 non-null  float64\n",
      "dtypes: float64(4), object(3)\n",
      "memory usage: 14.7+ MB\n"
     ]
    },
    {
     "data": {
      "text/html": [
       "<div>\n",
       "<style scoped>\n",
       "    .dataframe tbody tr th:only-of-type {\n",
       "        vertical-align: middle;\n",
       "    }\n",
       "\n",
       "    .dataframe tbody tr th {\n",
       "        vertical-align: top;\n",
       "    }\n",
       "\n",
       "    .dataframe thead th {\n",
       "        text-align: right;\n",
       "    }\n",
       "</style>\n",
       "<table border=\"1\" class=\"dataframe\">\n",
       "  <thead>\n",
       "    <tr style=\"text-align: right;\">\n",
       "      <th></th>\n",
       "      <th>Id1</th>\n",
       "      <th>Id2</th>\n",
       "      <th>Name</th>\n",
       "      <th>Year</th>\n",
       "      <th>Gender</th>\n",
       "      <th>State</th>\n",
       "      <th>Count</th>\n",
       "    </tr>\n",
       "  </thead>\n",
       "  <tbody>\n",
       "    <tr>\n",
       "      <th>0</th>\n",
       "      <td>11349.0</td>\n",
       "      <td>11350.0</td>\n",
       "      <td>Emma</td>\n",
       "      <td>2004.0</td>\n",
       "      <td>F</td>\n",
       "      <td>AK</td>\n",
       "      <td>62.0</td>\n",
       "    </tr>\n",
       "    <tr>\n",
       "      <th>1</th>\n",
       "      <td>11350.0</td>\n",
       "      <td>11351.0</td>\n",
       "      <td>Madison</td>\n",
       "      <td>2004.0</td>\n",
       "      <td>F</td>\n",
       "      <td>AK</td>\n",
       "      <td>48.0</td>\n",
       "    </tr>\n",
       "    <tr>\n",
       "      <th>2</th>\n",
       "      <td>11351.0</td>\n",
       "      <td>11352.0</td>\n",
       "      <td>Hannah</td>\n",
       "      <td>2004.0</td>\n",
       "      <td>F</td>\n",
       "      <td>AK</td>\n",
       "      <td>46.0</td>\n",
       "    </tr>\n",
       "    <tr>\n",
       "      <th>3</th>\n",
       "      <td>11352.0</td>\n",
       "      <td>11353.0</td>\n",
       "      <td>Grace</td>\n",
       "      <td>2004.0</td>\n",
       "      <td>F</td>\n",
       "      <td>AK</td>\n",
       "      <td>44.0</td>\n",
       "    </tr>\n",
       "    <tr>\n",
       "      <th>4</th>\n",
       "      <td>11353.0</td>\n",
       "      <td>11354.0</td>\n",
       "      <td>Emily</td>\n",
       "      <td>2004.0</td>\n",
       "      <td>F</td>\n",
       "      <td>AK</td>\n",
       "      <td>41.0</td>\n",
       "    </tr>\n",
       "  </tbody>\n",
       "</table>\n",
       "</div>"
      ],
      "text/plain": [
       "       Id1      Id2     Name    Year Gender State  Count\n",
       "0  11349.0  11350.0     Emma  2004.0      F    AK   62.0\n",
       "1  11350.0  11351.0  Madison  2004.0      F    AK   48.0\n",
       "2  11351.0  11352.0   Hannah  2004.0      F    AK   46.0\n",
       "3  11352.0  11353.0    Grace  2004.0      F    AK   44.0\n",
       "4  11353.0  11354.0    Emily  2004.0      F    AK   41.0"
      ]
     },
     "execution_count": 7,
     "metadata": {},
     "output_type": "execute_result"
    }
   ],
   "source": [
    "import pandas as pd\n",
    "df = pd.read_csv('./datasets/babynames.csv')\n",
    "df.info()\n",
    "df.head()"
   ]
  },
  {
   "cell_type": "markdown",
   "id": "interested-italian",
   "metadata": {},
   "source": [
    "### Step 2:\n",
    "\n",
    "Delete the column **`Id1`** and **`Id2`**"
   ]
  },
  {
   "cell_type": "code",
   "execution_count": 8,
   "id": "acute-employment",
   "metadata": {},
   "outputs": [
    {
     "name": "stdout",
     "output_type": "stream",
     "text": [
      "<class 'pandas.core.frame.DataFrame'>\n",
      "RangeIndex: 276087 entries, 0 to 276086\n",
      "Data columns (total 5 columns):\n",
      " #   Column  Non-Null Count   Dtype  \n",
      "---  ------  --------------   -----  \n",
      " 0   Name    276085 non-null  object \n",
      " 1   Year    276085 non-null  float64\n",
      " 2   Gender  276085 non-null  object \n",
      " 3   State   276085 non-null  object \n",
      " 4   Count   276085 non-null  float64\n",
      "dtypes: float64(2), object(3)\n",
      "memory usage: 10.5+ MB\n"
     ]
    }
   ],
   "source": [
    "df.drop(['Id1','Id2'], axis=1, inplace=True)\n",
    "df.info()"
   ]
  },
  {
   "cell_type": "markdown",
   "id": "forced-cornwall",
   "metadata": {},
   "source": [
    "### Step 3:\n",
    "\n",
    "Are there more male or female names in the dataset?"
   ]
  },
  {
   "cell_type": "code",
   "execution_count": 17,
   "id": "featured-explorer",
   "metadata": {},
   "outputs": [
    {
     "data": {
      "text/plain": [
       "F    156721\n",
       "M    119364\n",
       "Name: Gender, dtype: int64"
      ]
     },
     "execution_count": 17,
     "metadata": {},
     "output_type": "execute_result"
    }
   ],
   "source": [
    "df['Gender'].value_counts()"
   ]
  },
  {
   "cell_type": "markdown",
   "id": "speaking-crisis",
   "metadata": {},
   "source": [
    "### Step 4:\n",
    "\n",
    "How many different names exist in the dataset?"
   ]
  },
  {
   "cell_type": "code",
   "execution_count": 9,
   "id": "endless-austin",
   "metadata": {},
   "outputs": [
    {
     "data": {
      "text/plain": [
       "13900"
      ]
     },
     "execution_count": 9,
     "metadata": {},
     "output_type": "execute_result"
    }
   ],
   "source": [
    "df['Name'].value_counts().size\n",
    "#or\n",
    "len(df['Name'].value_counts())"
   ]
  },
  {
   "cell_type": "markdown",
   "id": "direct-medicine",
   "metadata": {},
   "source": [
    "### Step 5:\n",
    "\n",
    "What is the name with most occurrences?"
   ]
  },
  {
   "cell_type": "code",
   "execution_count": 11,
   "id": "tested-welding",
   "metadata": {},
   "outputs": [
    {
     "name": "stdout",
     "output_type": "stream",
     "text": [
      "Jacob 73370.0\n"
     ]
    }
   ],
   "source": [
    "names=df.groupby('Name')['Count'].sum()\n",
    "names.sort_values(ascending=False, inplace=True)\n",
    "print(names.index[0],names[0])"
   ]
  },
  {
   "cell_type": "code",
   "execution_count": 12,
   "id": "waiting-arrival",
   "metadata": {},
   "outputs": [
    {
     "name": "stdout",
     "output_type": "stream",
     "text": [
      "Jacob 73370.0\n"
     ]
    }
   ],
   "source": [
    "names=df.groupby('Name')['Count'].sum()\n",
    "print(names.idxmax(), names.max())\n"
   ]
  },
  {
   "cell_type": "markdown",
   "id": "finite-shuttle",
   "metadata": {},
   "source": [
    "### Step 6:\n",
    "\n",
    "How many different names have the least occurrences?"
   ]
  },
  {
   "cell_type": "code",
   "execution_count": 13,
   "id": "portuguese-generator",
   "metadata": {},
   "outputs": [
    {
     "data": {
      "text/plain": [
       "2002"
      ]
     },
     "execution_count": 13,
     "metadata": {},
     "output_type": "execute_result"
    }
   ],
   "source": [
    "names=df.groupby('Name')['Count'].sum()\n",
    "len(names[names.min() == names])"
   ]
  },
  {
   "cell_type": "markdown",
   "id": "compound-royalty",
   "metadata": {},
   "source": [
    "### Step 7:\n",
    "\n",
    "Does the Name column contains any `NaN` value ?\n",
    "What is the indexes of the corresponding rows?"
   ]
  },
  {
   "cell_type": "code",
   "execution_count": 14,
   "id": "outside-bottom",
   "metadata": {},
   "outputs": [
    {
     "data": {
      "text/plain": [
       "Int64Index([276081, 276086], dtype='int64')"
      ]
     },
     "execution_count": 14,
     "metadata": {},
     "output_type": "execute_result"
    }
   ],
   "source": [
    "df['Name'].isnull().sum()\n",
    "df[df['Name'].isnull()].index"
   ]
  },
  {
   "cell_type": "markdown",
   "id": "fluid-cemetery",
   "metadata": {},
   "source": [
    "### Step 8:\n",
    "\n",
    "Remove the rows that contains a `NaN` value in the Name column"
   ]
  },
  {
   "cell_type": "code",
   "execution_count": 15,
   "id": "checked-lighting",
   "metadata": {},
   "outputs": [],
   "source": [
    "df.drop(df[df['Name'].isnull()].index, axis=0, inplace=True)\n",
    "df['Name'].isnull().sum() # Just to check ...\n",
    "\n",
    "#or\n",
    "df.dropna(how='all', axis=0, inplace=True)"
   ]
  },
  {
   "cell_type": "markdown",
   "id": "opposite-logging",
   "metadata": {},
   "source": [
    "### Step 9:\n",
    "\n",
    "List all the unique names that contain the sub-string **'ver'**:"
   ]
  },
  {
   "cell_type": "code",
   "execution_count": 16,
   "id": "german-agency",
   "metadata": {},
   "outputs": [
    {
     "data": {
      "text/plain": [
       "array(['Avery', 'River', 'Everly', 'Oliver', 'Everett', 'Maverick',\n",
       "       'Beverly', 'Averie', 'Averi', 'Everleigh', 'Denver', 'Ever',\n",
       "       'Rivers', 'Everlee', 'Averee', 'Everardo', 'Trever', 'Guinevere',\n",
       "       'Clover', 'Waverly', 'Gwenevere', 'Everley', 'Silver', 'Gwenivere',\n",
       "       'Everlyn', 'Everlynn', 'Averey', 'Xaiver', 'Silverio', 'Everest',\n",
       "       'Severin', 'Iverson', 'Maverik', 'Carver', 'Iver', 'Maveric',\n",
       "       'Everette'], dtype=object)"
      ]
     },
     "execution_count": 16,
     "metadata": {},
     "output_type": "execute_result"
    }
   ],
   "source": [
    "df[df['Name'].str.contains('ver')].Name.unique()"
   ]
  },
  {
   "cell_type": "markdown",
   "id": "foster-inspection",
   "metadata": {},
   "source": [
    "### Step 10:\n",
    "\n",
    "Convert the `Year` colum into `int`.\n",
    "\n",
    "Count how many rows do concern year 2007 or 2008.\n"
   ]
  },
  {
   "cell_type": "code",
   "execution_count": 17,
   "id": "threaded-somewhere",
   "metadata": {},
   "outputs": [
    {
     "name": "stdout",
     "output_type": "stream",
     "text": [
      "<class 'pandas.core.frame.DataFrame'>\n",
      "Int64Index: 52021 entries, 639 to 273669\n",
      "Data columns (total 5 columns):\n",
      " #   Column  Non-Null Count  Dtype  \n",
      "---  ------  --------------  -----  \n",
      " 0   Name    52021 non-null  object \n",
      " 1   Year    52021 non-null  int32  \n",
      " 2   Gender  52021 non-null  object \n",
      " 3   State   52021 non-null  object \n",
      " 4   Count   52021 non-null  float64\n",
      "dtypes: float64(1), int32(1), object(3)\n",
      "memory usage: 2.2+ MB\n"
     ]
    },
    {
     "data": {
      "text/plain": [
       "52021"
      ]
     },
     "execution_count": 17,
     "metadata": {},
     "output_type": "execute_result"
    }
   ],
   "source": [
    "df.Year=df.Year.astype(int)\n",
    "res=df[(df.Year==2008) | (df.Year==2007)]\n",
    "res.info()\n",
    "res.Year.size\n",
    "len(res)"
   ]
  },
  {
   "cell_type": "markdown",
   "id": "a4907879",
   "metadata": {},
   "source": [
    "### Step 11:\n",
    "\n",
    "Print the frequencies of the name `Denver` by year."
   ]
  },
  {
   "cell_type": "code",
   "execution_count": 19,
   "id": "illegal-organic",
   "metadata": {},
   "outputs": [
    {
     "name": "stdout",
     "output_type": "stream",
     "text": [
      "Year\n",
      "2004    3\n",
      "2005    4\n",
      "2006    4\n",
      "2007    3\n",
      "2008    5\n",
      "2009    3\n",
      "2010    3\n",
      "2011    4\n",
      "2012    5\n",
      "2013    4\n",
      "2014    8\n",
      "Name: Count, dtype: int64\n"
     ]
    },
    {
     "data": {
      "text/plain": [
       "<AxesSubplot:xlabel='Year'>"
      ]
     },
     "execution_count": 19,
     "metadata": {},
     "output_type": "execute_result"
    },
    {
     "data": {
      "image/png": "[encoded data removed]",
      "text/plain": [
       "<Figure size 432x288 with 1 Axes>"
      ]
     },
     "metadata": {
      "needs_background": "light"
     },
     "output_type": "display_data"
    }
   ],
   "source": [
    "res=df[df['Name']=='Denver'].groupby('Year').Count.count()\n",
    "print(res)\n",
    "# To plot the result:\n",
    "#res.plot.bar()\n",
    "#sns.barplot(x=res.index, y=res.values)"
   ]
  }
 ],
 "metadata": {
  "kernelspec": {
   "display_name": "Python 3",
   "language": "python",
   "name": "python3"
  },
  "language_info": {
   "codemirror_mode": {
    "name": "ipython",
    "version": 3
   },
   "file_extension": ".py",
   "mimetype": "text/x-python",
   "name": "python",
   "nbconvert_exporter": "python",
   "pygments_lexer": "ipython3",
   "version": "3.7.1"
  }
 },
 "nbformat": 4,
 "nbformat_minor": 5
}
