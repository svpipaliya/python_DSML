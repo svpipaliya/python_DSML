{
 "cells": [
  {
   "cell_type": "markdown",
   "metadata": {},
   "source": [
    "# Exercise 1\n",
    "Convert a 1D array to a 2D array with 2 rows\n",
    "<pre>arr=np.arange(10)</pre>\n",
    "<br>\n",
    "We want:  \n",
    "<pre>\n",
    "array([[0, 1, 2, 3, 4],\n",
    "\t   [5, 6, 7, 8, 9]])\n",
    "</pre>"
   ]
  },
  {
   "cell_type": "code",
   "execution_count": 3,
   "metadata": {},
   "outputs": [
    {
     "data": {
      "text/plain": [
       "array([0, 1, 2, 3, 4, 5, 6, 7, 8, 9])"
      ]
     },
     "execution_count": 3,
     "metadata": {},
     "output_type": "execute_result"
    }
   ],
   "source": [
    "import numpy as np\n",
    "arr=np.arange(10)\n",
    "arr"
   ]
  },
  {
   "cell_type": "code",
   "execution_count": 11,
   "metadata": {},
   "outputs": [
    {
     "data": {
      "text/plain": [
       "False"
      ]
     },
     "execution_count": 11,
     "metadata": {},
     "output_type": "execute_result"
    },
    {
     "data": {
      "text/plain": [
       "[0.30000000000000004, 0.2]"
      ]
     },
     "execution_count": 11,
     "metadata": {},
     "output_type": "execute_result"
    },
    {
     "data": {
      "text/plain": [
       "[0.3, 0.2]"
      ]
     },
     "execution_count": 11,
     "metadata": {},
     "output_type": "execute_result"
    },
    {
     "data": {
      "text/plain": [
       "True"
      ]
     },
     "execution_count": 11,
     "metadata": {},
     "output_type": "execute_result"
    }
   ],
   "source": [
    "[.1+.1+.1, .1+.1] == [.3, .2]\n",
    "[.1+.1+.1, .1+.1]\n",
    "[.3, .2]\n",
    "np.allclose([.1+.1+.1, .1+.1], [.3, .2])"
   ]
  },
  {
   "cell_type": "markdown",
   "metadata": {},
   "source": [
    "# Exercise 2\n",
    "\n",
    "Create a 5X2 integer array from a range between 100 to 200 such that the difference between each element is 10"
   ]
  },
  {
   "cell_type": "code",
   "execution_count": null,
   "metadata": {},
   "outputs": [],
   "source": []
  },
  {
   "cell_type": "markdown",
   "metadata": {},
   "source": [
    "# Exercise 3\n",
    "\n",
    "Given the following array:\n",
    "    \n",
    "<pre>arr = np.array([[11 ,22, 33], [44, 55, 66], [77, 88, 99]])</pre>\n",
    "\n",
    "Create an array composed of the 3rd column of each row of `arr`"
   ]
  },
  {
   "cell_type": "code",
   "execution_count": null,
   "metadata": {},
   "outputs": [],
   "source": []
  },
  {
   "cell_type": "markdown",
   "metadata": {},
   "source": [
    "# Exercise 4\n",
    "\n",
    "Create an 8X3 integer array from a range between 10 to 34.\n",
    "\n",
    "Then Split the array into four equal-sized 2x3 sub-arrays."
   ]
  },
  {
   "cell_type": "markdown",
   "metadata": {},
   "source": [
    "# Exercise 5\n",
    "\n",
    "Given the array:\n",
    "\n",
    "    arr = np.array([[34,43,73],[82,22,12],[53,94,66]]) \n",
    "\n",
    "delete it's second column.\n",
    "\n",
    "Then, using the method `insert()` insert the following new column as the second column:\n",
    "\n",
    "    col = np.array([[10,10,10]])"
   ]
  },
  {
   "cell_type": "markdown",
   "metadata": {},
   "source": [
    "# Exercise 6\n",
    "\n",
    "Replace all odd numbers in arr with -1 without changing arr and then by changing arr\n",
    "\n",
    "<pre>arr=np.array([0, 1, 2, 3, 4, 5, 6, 7, 8, 9])</pre>\n"
   ]
  },
  {
   "cell_type": "markdown",
   "metadata": {},
   "source": [
    "# Exercise 7\n",
    "\n",
    "How to get the positions where elements of two arrays match?\n",
    "\n",
    "<pre>\n",
    "a = np.array([1,2,3,2,3,4,3,4,5,6])\n",
    "b = np.array([7,2,10,2,7,4,9,4,9,8])\n",
    "</pre>"
   ]
  },
  {
   "cell_type": "markdown",
   "metadata": {},
   "source": [
    "# Exercise 8\n",
    "\n",
    "How to remove from one array those items that exist in another?\n",
    "\n",
    "<pre>\n",
    "a = np.array([1,2,3,4,5])\n",
    "b = np.array([5,6,7,8,9])\n",
    "</pre>"
   ]
  },
  {
   "cell_type": "markdown",
   "metadata": {},
   "source": [
    "# Exercise 9\n",
    "\n",
    "How to stack two arrays horizontally\n",
    "<pre>\n",
    "a = np.arange(10).reshape(2,-1)\n",
    "b = np.repeat(1, 10).reshape(2,-1)\n",
    "</pre>\n",
    "We want:  \n",
    "<pre>\n",
    "array([[0, 1, 2, 3, 4, 1, 1, 1, 1, 1],\n",
    " \t\t[5, 6, 7, 8, 9, 1, 1, 1, 1, 1]])\n",
    "</pre>"
   ]
  },
  {
   "cell_type": "markdown",
   "metadata": {},
   "source": [
    "# Exercise 10\n",
    "\n",
    "Get all items between 5 and 10 from a\n",
    "\n",
    "<pre>\n",
    "a = np.array([2, 6, 1, 9, 10, 3, 27])\n",
    "</pre>"
   ]
  },
  {
   "cell_type": "markdown",
   "metadata": {},
   "source": [
    "# Exercise 11\n",
    "\n",
    "Swap columns 1 and 2 in the array arr\n",
    "\n",
    "<pre>\n",
    "arr = np.arange(9).reshape(3,3)\n",
    "</pre>"
   ]
  },
  {
   "cell_type": "markdown",
   "metadata": {},
   "source": [
    "# Exercise 12\n",
    "\n",
    "How to find the count of unique values in the numpy array a?\n",
    "\n",
    "<pre>\n",
    "a = np.array([1,2,2,1,2,5])\n",
    "</pre>"
   ]
  },
  {
   "cell_type": "markdown",
   "metadata": {},
   "source": [
    "# Exercise 13\n",
    "\n",
    "Create a UFunc that will be able to **normalize** the array it receives as argument.\n",
    "\n",
    "To normalize a value, subtract it from the minimum value of the dataset and divide it by using the difference between the maximum and minimum value of the dataset.\n",
    "The lowest value in the data will have the value 0 and the highest value in the data will have the value 1 and the other values will be within the range 0 and 1.\n"
   ]
  },
  {
   "cell_type": "code",
   "execution_count": null,
   "metadata": {},
   "outputs": [],
   "source": []
  }
 ],
 "metadata": {
  "kernelspec": {
   "display_name": "Python 3 (ipykernel)",
   "language": "python",
   "name": "python3"
  },
  "language_info": {
   "codemirror_mode": {
    "name": "ipython",
    "version": 3
   },
   "file_extension": ".py",
   "mimetype": "text/x-python",
   "name": "python",
   "nbconvert_exporter": "python",
   "pygments_lexer": "ipython3",
   "version": "3.9.7"
  }
 },
 "nbformat": 4,
 "nbformat_minor": 2
}
