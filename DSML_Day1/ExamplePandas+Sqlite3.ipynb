{
 "cells": [
  {
   "cell_type": "code",
   "execution_count": 1,
   "id": "dc298e12",
   "metadata": {},
   "outputs": [
    {
     "name": "stdout",
     "output_type": "stream",
     "text": [
      "       name  price  qty\n",
      "0     Prod1   56.7   12\n",
      "1     Prod2   57.8   19\n",
      "2   prod400   88.9   34\n",
      "3    Prod99   57.8   19\n",
      "4      TATA    7.8   10\n",
      "5     TATA1    7.8   10\n",
      "6     TATA2    7.8   10\n",
      "7     TATA3    7.8   10\n",
      "8     TATA7    7.8   10\n",
      "9   prod408   88.9   34\n",
      "10    Hello    4.5   67\n"
     ]
    }
   ],
   "source": [
    "import sqlite3\n",
    "import pandas as pd\n",
    "\n",
    "try:\n",
    "    conn=sqlite3.connect(r\"epfl.db\")\n",
    "    df=pd.read_sql(\"SELECT * FROM product\", conn)\n",
    "    print(df)\n",
    "    conn.close()\n",
    "except Exception as ex:\n",
    "    print(ex)"
   ]
  },
  {
   "cell_type": "code",
   "execution_count": null,
   "id": "d2d045a0",
   "metadata": {},
   "outputs": [],
   "source": []
  }
 ],
 "metadata": {
  "kernelspec": {
   "display_name": "Python 3",
   "language": "python",
   "name": "python3"
  },
  "language_info": {
   "codemirror_mode": {
    "name": "ipython",
    "version": 3
   },
   "file_extension": ".py",
   "mimetype": "text/x-python",
   "name": "python",
   "nbconvert_exporter": "python",
   "pygments_lexer": "ipython3",
   "version": "3.8.8"
  }
 },
 "nbformat": 4,
 "nbformat_minor": 5
}
