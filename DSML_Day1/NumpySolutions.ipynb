{
 "cells": [
  {
   "cell_type": "markdown",
   "metadata": {},
   "source": [
    "# Exercise 1\n",
    "Convert a 1D array to a 2D array with 2 rows\n",
    "<pre>arr=np.arange(10)</pre>\n",
    "<br>\n",
    "We want:  \n",
    "<pre>\n",
    "array([[0, 1, 2, 3, 4],\n",
    "\t   [5, 6, 7, 8, 9]])\n",
    "</pre>"
   ]
  },
  {
   "cell_type": "code",
   "execution_count": 4,
   "metadata": {},
   "outputs": [
    {
     "data": {
      "text/plain": [
       "array([[0, 1, 2, 3, 4],\n",
       "       [5, 6, 7, 8, 9]])"
      ]
     },
     "execution_count": 4,
     "metadata": {},
     "output_type": "execute_result"
    }
   ],
   "source": [
    "from IPython.core.interactiveshell import InteractiveShell\n",
    "\n",
    "InteractiveShell.ast_node_interactivity = \"all\" \n",
    "\n",
    "import numpy as np\n",
    "arr = np.arange(10)\n",
    "#arr.shape=(2,-1)\n",
    "arr=arr.reshape(2, -1)\n",
    "arr"
   ]
  },
  {
   "cell_type": "markdown",
   "metadata": {},
   "source": [
    "# Exercise 2\n",
    "\n",
    "Create a 5X2 integer array from a range between 100 to 200 such that the difference between each element is 10"
   ]
  },
  {
   "cell_type": "code",
   "execution_count": 5,
   "metadata": {},
   "outputs": [
    {
     "data": {
      "text/plain": [
       "array([100, 110, 120, 130, 140, 150, 160, 170, 180, 190])"
      ]
     },
     "execution_count": 5,
     "metadata": {},
     "output_type": "execute_result"
    },
    {
     "data": {
      "text/plain": [
       "array([[100, 110],\n",
       "       [120, 130],\n",
       "       [140, 150],\n",
       "       [160, 170],\n",
       "       [180, 190]])"
      ]
     },
     "execution_count": 5,
     "metadata": {},
     "output_type": "execute_result"
    }
   ],
   "source": [
    "arr = np.arange(100, 200, 10)\n",
    "arr\n",
    "arr = arr.reshape(5,2)\n",
    "arr"
   ]
  },
  {
   "cell_type": "markdown",
   "metadata": {},
   "source": [
    "# Exercise 3\n",
    "\n",
    "Given the following array:\n",
    "    \n",
    "<pre>arr = np.array([[11 ,22, 33], [44, 55, 66], [77, 88, 99]])</pre>\n",
    "\n",
    "Create an array composed of the 3rd column of each row of `arr`"
   ]
  },
  {
   "cell_type": "code",
   "execution_count": 6,
   "metadata": {},
   "outputs": [
    {
     "data": {
      "text/plain": [
       "array([33, 66, 99])"
      ]
     },
     "execution_count": 6,
     "metadata": {},
     "output_type": "execute_result"
    },
    {
     "data": {
      "text/plain": [
       "array([33, 66, 99])"
      ]
     },
     "execution_count": 6,
     "metadata": {},
     "output_type": "execute_result"
    }
   ],
   "source": [
    "arr = np.array([[11 ,22, 33], [44, 55, 66], [77, 88, 99]])\n",
    "narr = arr[...,2]\n",
    "narr\n",
    "# or\n",
    "narr = arr[:,2]\n",
    "narr"
   ]
  },
  {
   "cell_type": "markdown",
   "metadata": {},
   "source": [
    "# Exercise 4\n",
    "\n",
    "Create an 8X3 integer array from a range between 10 to 34.\n",
    "\n",
    "Then Split the array into four equal-sized 2x3 sub-arrays.\n"
   ]
  },
  {
   "cell_type": "code",
   "execution_count": 14,
   "metadata": {},
   "outputs": [
    {
     "data": {
      "text/plain": [
       "[array([[10, 11, 12],\n",
       "        [13, 14, 15]]),\n",
       " array([[16, 17, 18],\n",
       "        [19, 20, 21]]),\n",
       " array([[22, 23, 24],\n",
       "        [25, 26, 27]]),\n",
       " array([[28, 29, 30],\n",
       "        [31, 32, 33]])]"
      ]
     },
     "execution_count": 14,
     "metadata": {},
     "output_type": "execute_result"
    }
   ],
   "source": [
    "arr = np.arange(10, 34, 1).reshape(8,3)\n",
    "subArrs = np.split(arr, 4) \n",
    "subArrs"
   ]
  },
  {
   "cell_type": "markdown",
   "metadata": {},
   "source": [
    "# Exercise 5\n",
    "\n",
    "Given the array:\n",
    "\n",
    "    arr = np.array([[34,43,73],[82,22,12],[53,94,66]]) \n",
    "\n",
    "delete it's second column.\n",
    "\n",
    "Then, using the method `insert()` insert the following new column as the second column:\n",
    "\n",
    "    col = np.array([[10,10,10]])\n",
    "    "
   ]
  },
  {
   "cell_type": "code",
   "execution_count": 16,
   "metadata": {},
   "outputs": [
    {
     "data": {
      "text/plain": [
       "array([[34, 43, 73],\n",
       "       [82, 22, 12],\n",
       "       [53, 94, 66]])"
      ]
     },
     "execution_count": 16,
     "metadata": {},
     "output_type": "execute_result"
    },
    {
     "data": {
      "text/plain": [
       "array([[34, 73],\n",
       "       [82, 12],\n",
       "       [53, 66]])"
      ]
     },
     "execution_count": 16,
     "metadata": {},
     "output_type": "execute_result"
    },
    {
     "data": {
      "text/plain": [
       "array([[34, 10, 73],\n",
       "       [82, 10, 12],\n",
       "       [53, 10, 66]])"
      ]
     },
     "execution_count": 16,
     "metadata": {},
     "output_type": "execute_result"
    },
    {
     "data": {
      "text/plain": [
       "array([[34, 10, 73],\n",
       "       [82, 10, 12],\n",
       "       [53, 10, 66]])"
      ]
     },
     "execution_count": 16,
     "metadata": {},
     "output_type": "execute_result"
    }
   ],
   "source": [
    "arr = np.array([[34,43,73],[82,22,12],[53,94,66]])\n",
    "col = np.array([[10,10,10]])\n",
    "arr\n",
    "arr = np.delete(arr , 1, axis = 1) \n",
    "arr\n",
    "arr = np.insert(arr , 1, col, axis = 1) \n",
    "arr\n",
    "# Second option:\n",
    "arr = np.array([[34,43,73],[82,22,12],[53,94,66]])\n",
    "arr[:,1]=col\n",
    "arr"
   ]
  },
  {
   "cell_type": "markdown",
   "metadata": {},
   "source": [
    "# Exercise 6\n",
    "\n",
    "Replace all odd numbers in arr with -1 without changing arr and then by changing arr\n",
    "\n",
    "<pre>arr=np.array([0, 1, 2, 3, 4, 5, 6, 7, 8, 9])</pre>\n"
   ]
  },
  {
   "cell_type": "code",
   "execution_count": 27,
   "metadata": {},
   "outputs": [
    {
     "data": {
      "text/plain": [
       "array([0, 1, 2, 3, 4, 5, 6, 7, 8, 9])"
      ]
     },
     "execution_count": 27,
     "metadata": {},
     "output_type": "execute_result"
    },
    {
     "data": {
      "text/plain": [
       "array([ 0, -1,  2, -1,  4, -1,  6, -1,  8, -1])"
      ]
     },
     "execution_count": 27,
     "metadata": {},
     "output_type": "execute_result"
    },
    {
     "data": {
      "text/plain": [
       "array([ 0, -1,  2, -1,  4, -1,  6, -1,  8, -1])"
      ]
     },
     "execution_count": 27,
     "metadata": {},
     "output_type": "execute_result"
    }
   ],
   "source": [
    "arr=np.array([0, 1, 2, 3, 4, 5, 6, 7, 8, 9]) # or arr = np.arange(10)\n",
    "out = np.where(arr % 2 == 1, -1, arr)\n",
    "arr\n",
    "out\n",
    "\n",
    "arr = np.arange(10)\n",
    "arr[arr % 2 == 1] = -1\n",
    "arr"
   ]
  },
  {
   "cell_type": "markdown",
   "metadata": {},
   "source": [
    "# Exercise 7\n",
    "\n",
    "How to get the positions where elements of two arrays match?\n",
    "\n",
    "<pre>\n",
    "a = np.array([1,2,3,2,3,4,3,4,5,6])\n",
    "b = np.array([7,2,10,2,7,4,9,4,9,8])\n",
    "</pre>"
   ]
  },
  {
   "cell_type": "code",
   "execution_count": 17,
   "metadata": {},
   "outputs": [
    {
     "data": {
      "text/plain": [
       "(array([1, 3, 5, 7], dtype=int64),)"
      ]
     },
     "execution_count": 17,
     "metadata": {},
     "output_type": "execute_result"
    },
    {
     "data": {
      "text/plain": [
       "array([2, 2, 4, 4])"
      ]
     },
     "execution_count": 17,
     "metadata": {},
     "output_type": "execute_result"
    }
   ],
   "source": [
    "a = np.array([1,2,3,2,3,4,3,4,5,6])\n",
    "b = np.array([7,2,10,2,7,4,9,4,9,8])\n",
    "np.where(a == b)\n",
    "a[a == b]"
   ]
  },
  {
   "cell_type": "markdown",
   "metadata": {},
   "source": [
    "# Exercise 8\n",
    "\n",
    "How to remove from one array those items that exist in another?\n",
    "\n",
    "<pre>\n",
    "a = np.array([1,2,3,4,5])\n",
    "b = np.array([5,6,7,8,9])\n",
    "</pre>"
   ]
  },
  {
   "cell_type": "code",
   "execution_count": 7,
   "metadata": {},
   "outputs": [
    {
     "data": {
      "text/plain": [
       "array([1, 2, 3, 4])"
      ]
     },
     "execution_count": 7,
     "metadata": {},
     "output_type": "execute_result"
    },
    {
     "data": {
      "text/plain": [
       "[1, 2, 3, 4]"
      ]
     },
     "execution_count": 7,
     "metadata": {},
     "output_type": "execute_result"
    }
   ],
   "source": [
    "import numpy as np\n",
    "a = np.array([1,2,3,4,5,6])\n",
    "b = np.array([5,6,7,8,9])\n",
    "\n",
    "# From 'a' remove all of 'b'\n",
    "# %timeit  np.setdiff1d(a,b)\n",
    "np.setdiff1d(a,b)\n",
    "\n",
    "# Without Numpy :\n",
    "diff_array = [i for i in a if i not in b]\n",
    "diff_array"
   ]
  },
  {
   "cell_type": "markdown",
   "metadata": {},
   "source": [
    "# Exercise 9\n",
    "\n",
    "How to stack two arrays horizontally\n",
    "<pre>\n",
    "a = np.arange(10).reshape(2,-1)\n",
    "b = np.repeat(1, 10).reshape(2,-1)\n",
    "</pre>\n",
    "We want:  \n",
    "<pre>\n",
    "array([[0, 1, 2, 3, 4, 1, 1, 1, 1, 1],\n",
    " \t\t[5, 6, 7, 8, 9, 1, 1, 1, 1, 1]])\n",
    "</pre>"
   ]
  },
  {
   "cell_type": "code",
   "execution_count": 21,
   "metadata": {},
   "outputs": [
    {
     "data": {
      "text/plain": [
       "array([[0, 1, 2, 3, 4],\n",
       "       [5, 6, 7, 8, 9]])"
      ]
     },
     "execution_count": 21,
     "metadata": {},
     "output_type": "execute_result"
    },
    {
     "data": {
      "text/plain": [
       "array([[1, 1, 1, 1, 1],\n",
       "       [1, 1, 1, 1, 1]])"
      ]
     },
     "execution_count": 21,
     "metadata": {},
     "output_type": "execute_result"
    },
    {
     "data": {
      "text/plain": [
       "array([[0, 1, 2, 3, 4, 1, 1, 1, 1, 1],\n",
       "       [5, 6, 7, 8, 9, 1, 1, 1, 1, 1]])"
      ]
     },
     "execution_count": 21,
     "metadata": {},
     "output_type": "execute_result"
    },
    {
     "data": {
      "text/plain": [
       "array([[0, 1, 2, 3, 4, 1, 1, 1, 1, 1],\n",
       "       [5, 6, 7, 8, 9, 1, 1, 1, 1, 1]])"
      ]
     },
     "execution_count": 21,
     "metadata": {},
     "output_type": "execute_result"
    },
    {
     "data": {
      "text/plain": [
       "array([[0, 1, 2, 3, 4, 1, 1, 1, 1, 1],\n",
       "       [5, 6, 7, 8, 9, 1, 1, 1, 1, 1]])"
      ]
     },
     "execution_count": 21,
     "metadata": {},
     "output_type": "execute_result"
    }
   ],
   "source": [
    "a = np.arange(10).reshape(2,-1)\n",
    "b = np.repeat(1, 10).reshape(2,-1)\n",
    "a\n",
    "b\n",
    "# Method 1:\n",
    "np.concatenate([a, b], axis=1)\n",
    "\n",
    "# Method 2:\n",
    "np.hstack([a, b])\n",
    "\n",
    "# Method 3:\n",
    "np.c_[a, b]\n"
   ]
  },
  {
   "cell_type": "markdown",
   "metadata": {},
   "source": [
    "# Exercise 10\n",
    "\n",
    "Get all items between 5 and 10 from a\n",
    "\n",
    "<pre>\n",
    "a = np.array([2, 6, 1, 9, 10, 3, 27])\n",
    "</pre>"
   ]
  },
  {
   "cell_type": "code",
   "execution_count": 24,
   "metadata": {},
   "outputs": [
    {
     "data": {
      "text/plain": [
       "array([ 6,  9, 10])"
      ]
     },
     "execution_count": 24,
     "metadata": {},
     "output_type": "execute_result"
    },
    {
     "data": {
      "text/plain": [
       "array([ 6,  9, 10])"
      ]
     },
     "execution_count": 24,
     "metadata": {},
     "output_type": "execute_result"
    },
    {
     "data": {
      "text/plain": [
       "array([ 6,  9, 10])"
      ]
     },
     "execution_count": 24,
     "metadata": {},
     "output_type": "execute_result"
    }
   ],
   "source": [
    "import numpy as np\n",
    "a = np.array([2, 6, 1, 9, 10, 3, 27])\n",
    "\n",
    "# Method 1\n",
    "index = np.where((a >= 5) & (a <= 10))\n",
    "a[index]\n",
    "\n",
    "# Method 2:\n",
    "index = np.where(np.logical_and(a>=5, a<=10))\n",
    "a[index]\n",
    "\n",
    "# Method 3: %timeit\n",
    "a[(a >= 5) & (a <= 10)]"
   ]
  },
  {
   "cell_type": "markdown",
   "metadata": {},
   "source": [
    "# Exercise 11\n",
    "\n",
    "Swap columns 1 and 2 in the array arr\n",
    "\n",
    "<pre>\n",
    "arr = np.arange(9).reshape(3,3)\n",
    "</pre>"
   ]
  },
  {
   "cell_type": "code",
   "execution_count": 26,
   "metadata": {},
   "outputs": [
    {
     "data": {
      "text/plain": [
       "array([[0, 1, 2],\n",
       "       [3, 4, 5],\n",
       "       [6, 7, 8]])"
      ]
     },
     "execution_count": 26,
     "metadata": {},
     "output_type": "execute_result"
    },
    {
     "data": {
      "text/plain": [
       "array([[0, 2, 1],\n",
       "       [3, 5, 4],\n",
       "       [6, 8, 7]])"
      ]
     },
     "execution_count": 26,
     "metadata": {},
     "output_type": "execute_result"
    }
   ],
   "source": [
    "arr = np.arange(9).reshape(3,3)\n",
    "arr\n",
    "\n",
    "arr[:, [0,2,1]]"
   ]
  },
  {
   "cell_type": "markdown",
   "metadata": {},
   "source": [
    "# Exercise 12\n",
    "\n",
    "How to find the count of unique values in the numpy array a?\n",
    "\n",
    "<pre>\n",
    "a = np.array([1,2,2,1,2,5])\n",
    "</pre>"
   ]
  },
  {
   "cell_type": "code",
   "execution_count": 29,
   "metadata": {},
   "outputs": [
    {
     "data": {
      "text/plain": [
       "array([1, 2, 2, 1, 2, 5, 5, 6, 1, 2, 0])"
      ]
     },
     "execution_count": 29,
     "metadata": {},
     "output_type": "execute_result"
    },
    {
     "data": {
      "text/plain": [
       "(array([0, 1, 2, 5, 6]), array([1, 3, 4, 2, 1], dtype=int64))"
      ]
     },
     "execution_count": 29,
     "metadata": {},
     "output_type": "execute_result"
    },
    {
     "name": "stdout",
     "output_type": "stream",
     "text": [
      "value: 0 occurences: 1\n",
      "value: 1 occurences: 3\n",
      "value: 2 occurences: 4\n",
      "value: 5 occurences: 2\n",
      "value: 6 occurences: 1\n"
     ]
    },
    {
     "data": {
      "text/plain": [
       "18"
      ]
     },
     "execution_count": 29,
     "metadata": {},
     "output_type": "execute_result"
    }
   ],
   "source": [
    "a = np.array([1,2,2,1,2,5,5,6,1,2,0])\n",
    "a\n",
    "np.unique(a, return_counts=True)\n",
    "\n",
    "for val,count in zip(*np.unique(a, return_counts=True)):\n",
    "    print(f\"value: {val} occurences: {count}\")\n",
    "    \n"
   ]
  },
  {
   "cell_type": "markdown",
   "metadata": {},
   "source": [
    "# Exercise 13\n",
    "\n",
    "Create a UFunc that will be able to **normalize** the array it receives as argument.\n",
    "\n",
    "To normalize a value, subtract it from the minimum value of the dataset and divide it by using the difference between the maximum and minimum value of the dataset.\n",
    "The lowest value in the data will have the value 0 and the highest value in the data will have the value 1 and the other values will be within the range 0 and 1."
   ]
  },
  {
   "cell_type": "code",
   "execution_count": 4,
   "metadata": {},
   "outputs": [
    {
     "name": "stdout",
     "output_type": "stream",
     "text": [
      "[[ 0  1]\n",
      " [ 2  3]\n",
      " [ 4  5]\n",
      " [ 6  7]\n",
      " [ 8  9]\n",
      " [10 11]\n",
      " [12 13]\n",
      " [14 15]]\n"
     ]
    },
    {
     "data": {
      "text/plain": [
       "array([[0.        , 0.06666667],\n",
       "       [0.13333333, 0.2       ],\n",
       "       [0.26666667, 0.33333333],\n",
       "       [0.4       , 0.46666667],\n",
       "       [0.53333333, 0.6       ],\n",
       "       [0.66666667, 0.73333333],\n",
       "       [0.8       , 0.86666667],\n",
       "       [0.93333333, 1.        ]])"
      ]
     },
     "execution_count": 4,
     "metadata": {},
     "output_type": "execute_result"
    }
   ],
   "source": [
    "import numpy as np\n",
    "\n",
    "def NormalizeData(data):\n",
    "    return (data - np.min(data)) / (np.max(data) - np.min(data))\n",
    "\n",
    "X = np.array([\n",
    "    [ 0,  1],\n",
    "    [ 2,  3],\n",
    "    [ 4,  5],\n",
    "    [ 6,  7],\n",
    "    [ 8,  9],\n",
    "    [10, 11],\n",
    "    [12, 13],\n",
    "    [14, 15]\n",
    "])\n",
    "# <=> X=np.arange(16, dtype=int).reshape(8,2)\n",
    "\n",
    "scaled_x = NormalizeData(X)\n",
    "scaled_x"
   ]
  },
  {
   "cell_type": "code",
   "execution_count": null,
   "metadata": {},
   "outputs": [],
   "source": []
  }
 ],
 "metadata": {
  "kernelspec": {
   "display_name": "Python 3 (ipykernel)",
   "language": "python",
   "name": "python3"
  },
  "language_info": {
   "codemirror_mode": {
    "name": "ipython",
    "version": 3
   },
   "file_extension": ".py",
   "mimetype": "text/x-python",
   "name": "python",
   "nbconvert_exporter": "python",
   "pygments_lexer": "ipython3",
   "version": "3.9.7"
  }
 },
 "nbformat": 4,
 "nbformat_minor": 2
}
