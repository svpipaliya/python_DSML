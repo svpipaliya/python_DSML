{
 "cells": [
  {
   "cell_type": "markdown",
   "id": "taken-routine",
   "metadata": {},
   "source": [
    "## Pandas exercises\n",
    "\n",
    "### Step 1:\n",
    "    \n",
    "Use the **`babynames.csv`** file to create a DataFrame.\n",
    "\n",
    "Print some information about the DataFrame and it's first five rows."
   ]
  },
  {
   "cell_type": "markdown",
   "id": "interested-italian",
   "metadata": {},
   "source": [
    "### Step 2:\n",
    "\n",
    "Delete the column **`Id1`** and **`Id2`**"
   ]
  },
  {
   "cell_type": "markdown",
   "id": "forced-cornwall",
   "metadata": {},
   "source": [
    "### Step 3:\n",
    "\n",
    "Are there more male or female names in the dataset (use the column \"Gender\")?"
   ]
  },
  {
   "cell_type": "markdown",
   "id": "speaking-crisis",
   "metadata": {},
   "source": [
    "### Step 4:\n",
    "\n",
    "How many different names exist in the dataset?"
   ]
  },
  {
   "cell_type": "markdown",
   "id": "direct-medicine",
   "metadata": {},
   "source": [
    "### Step 5:\n",
    "\n",
    "What is the name with most occurrences?"
   ]
  },
  {
   "cell_type": "markdown",
   "id": "finite-shuttle",
   "metadata": {},
   "source": [
    "### Step 6:\n",
    "\n",
    "How many different names have the least occurrences?"
   ]
  },
  {
   "cell_type": "markdown",
   "id": "compound-royalty",
   "metadata": {},
   "source": [
    "### Step 7:\n",
    "\n",
    "Does the Name column contains any `NaN` value ?\n",
    "What is the indexes of the corresponding rows?"
   ]
  },
  {
   "cell_type": "markdown",
   "id": "fluid-cemetery",
   "metadata": {},
   "source": [
    "### Step 8:\n",
    "\n",
    "Remove the rows that contains a `NaN` value in the Name column"
   ]
  },
  {
   "cell_type": "markdown",
   "id": "opposite-logging",
   "metadata": {},
   "source": [
    "### Step 9:\n",
    "\n",
    "List all the unique names that contain the sub-string **'ver'**:"
   ]
  },
  {
   "cell_type": "markdown",
   "id": "foster-inspection",
   "metadata": {},
   "source": [
    "### Step 10:\n",
    "\n",
    "Convert the `Year` colum into `int`.\n",
    "\n",
    "Count how many rows do concern year 2007 or 2008.\n"
   ]
  },
  {
   "cell_type": "markdown",
   "id": "a4907879",
   "metadata": {},
   "source": [
    "### Step 11:\n",
    "\n",
    "Print the frequencies (use the columns \"Name\" and \"Count\") of the name `Denver` by year."
   ]
  },
  {
   "cell_type": "code",
   "execution_count": null,
   "id": "scenic-intent",
   "metadata": {},
   "outputs": [],
   "source": []
  }
 ],
 "metadata": {
  "kernelspec": {
   "display_name": "Python 3",
   "language": "python",
   "name": "python3"
  },
  "language_info": {
   "codemirror_mode": {
    "name": "ipython",
    "version": 3
   },
   "file_extension": ".py",
   "mimetype": "text/x-python",
   "name": "python",
   "nbconvert_exporter": "python",
   "pygments_lexer": "ipython3",
   "version": "3.7.1"
  }
 },
 "nbformat": 4,
 "nbformat_minor": 5
}
